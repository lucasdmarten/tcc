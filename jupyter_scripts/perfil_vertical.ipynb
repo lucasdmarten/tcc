{
 "cells": [
  {
   "cell_type": "code",
   "execution_count": null,
   "metadata": {},
   "outputs": [],
   "source": [
    "from netCDF4 import Dataset\n",
    "import numpy as np\n",
    "import pandas as pd\n",
    "from matplotlib.cm import get_cmap\n",
    "import matplotlib.ticker as mticker\n",
    "import matplotlib.patches as patches\n",
    "\n",
    "from wrf import getvar, ALL_TIMES, interplevel, get_cartopy, to_np,vinterp\n",
    "\n",
    "import metpy.calc as mpcalc\n",
    "from metpy.units import units\n",
    "import datetime\n",
    "import matplotlib.pyplot as plt\n",
    "import numpy as np\n",
    "\n",
    "import metpy.calc as mpcalc\n",
    "from metpy.plots import  SkewT\n",
    "from metpy.units import units"
   ]
  },
  {
   "cell_type": "code",
   "execution_count": null,
   "metadata": {},
   "outputs": [],
   "source": [
    "wrfile = Dataset('/media/lucasdmarten/HD/DADOS_TCC/RESULTADOS/CASO1/MEMBRO1/wrfout_d01_2018-05-22_18:00:00')\n",
    "names=['pressure','height','temp','dewpoint','humidity_r','moisture','dir','spdknt','THTA','THTE','THTV']\n",
    "sound = pd.read_csv('/media/lucasdmarten/HD/backup/projetos/webscraping/sounding.c1_23_0Z.csv',skiprows=5,\n",
    "            delimiter='\\s+',names=names)\n",
    "sound[sound=='|'] = np.nan\n",
    "sound=sound.interpolate()"
   ]
  },
  {
   "cell_type": "code",
   "execution_count": null,
   "metadata": {},
   "outputs": [],
   "source": [
    "p.sel(Time=slice('2018-05-23','2018-05-25'))"
   ]
  },
  {
   "cell_type": "code",
   "execution_count": null,
   "metadata": {
    "scrolled": false
   },
   "outputs": [],
   "source": [
    "p = getvar(wrfile, \"pressure\", timeidx=ALL_TIMES)[:,:,62,57].sel(Time='2018-05-24 00:00:00')* units.hPa\n",
    "z = getvar(wrfile, \"z\")[:,62,57]\n",
    "t = getvar(wrfile, \"temp\", timeidx=ALL_TIMES)[:,:,62,57].sel(Time='2018-05-24 00:00:00')* units.degC\n",
    "td = getvar(wrfile, \"td\", timeidx=ALL_TIMES)[:,:,62,57].sel(Time='2018-05-24 00:00:00')* units.degC\n",
    "spd_dir = getvar(wrfile, \"wspd_wdir\", timeidx=ALL_TIMES)\n",
    "speed = spd_dir[0,:,:62,57].sel(Time='2018-05-24 00:00:00')* units.knots\n",
    "\n",
    "direction = spd_dir[1,:,:62,57].sel(Time='2018-05-24 00:00:00')* units.degrees\n",
    "# rh_pblh = interplevel(temp, z, \n",
    "#                       sound.height.astype('float').to_list())"
   ]
  },
  {
   "cell_type": "code",
   "execution_count": null,
   "metadata": {},
   "outputs": [],
   "source": [
    "p"
   ]
  },
  {
   "cell_type": "code",
   "execution_count": null,
   "metadata": {},
   "outputs": [],
   "source": [
    "vinter_temp = vinterp(wrfile,temp,'pressure',sound.pressure.astype('float').to_list(),\n",
    "    extrapolate=False,field_type=None,log_p=True,\n",
    "               timeidx=0,method='cat',squeeze=True,cache=None,meta=True)[:,62,57]\n",
    "vinter_height = vinterp(wrfile,z,'pressure',sound.pressure.astype('float').to_list(),\n",
    "    extrapolate=False,field_type=None,log_p=True,\n",
    "               timeidx=0,method='cat',squeeze=True,cache=None,meta=True)[:,62,57]\n",
    "vinter_height"
   ]
  },
  {
   "cell_type": "code",
   "execution_count": null,
   "metadata": {},
   "outputs": [],
   "source": [
    "u"
   ]
  },
  {
   "cell_type": "code",
   "execution_count": null,
   "metadata": {},
   "outputs": [],
   "source": [
    "\n",
    "u, v = mpcalc.wind_components(speed, direction)\n",
    "plt.rcParams['figure.figsize'] = (9, 9)\n",
    "fig = plt.figure()\n",
    "\n",
    "skew = SkewT(fig, rotation=45)\n",
    "\n",
    "skew.plot(p, t, 'r')\n",
    "skew.plot(p, td, 'g')\n",
    "skew.plot_barbs(p, u[:,62], v[:,57])\n",
    "skew.ax.set_ylim(1000, 100)\n",
    "\n",
    "skew.plot_dry_adiabats()\n",
    "skew.plot_moist_adiabats()\n",
    "skew.plot_mixing_lines()\n",
    "\n",
    "skew.ax.set_xlim(-50, 60)\n",
    "\n",
    "fig = plt.gcf()"
   ]
  },
  {
   "cell_type": "code",
   "execution_count": null,
   "metadata": {},
   "outputs": [],
   "source": [
    "names=['pressure','height','temp','dewpoint','humidity_r','moisture','dir','spdknt','THTA','THTE','THTV']\n",
    "df=pd.read_csv('/media/lucasdmarten/HD/backup/projetos/webscraping/sounding.c1_24_0Z.csv',skiprows=5,delimiter='\\s+',names=names)\n",
    "df[df=='|'] = np.nan\n",
    "p, td, t = df.pressure.interpolate().astype('float').values * units.hPa, df.dewpoint.interpolate().values * units.degC, df.temp.interpolate().values * units.degC\n",
    "wind_speed = df['spdknt'].interpolate().astype('float').values * units.knots\n",
    "wind_dir = df['dir'].interpolate().astype('float').values * units.degrees\n",
    "u, v = mpcalc.wind_components(wind_speed, wind_dir)\n",
    "plt.rcParams['figure.figsize'] = (9, 9)\n",
    "fig = plt.figure()\n",
    "\n",
    "skew = SkewT(fig, rotation=45)\n",
    "\n",
    "skew.plot(p, t, 'r')\n",
    "skew.plot(p, td, 'g')\n",
    "skew.plot_barbs(p, u, v)\n",
    "skew.ax.set_ylim(1000, 100)\n",
    "\n",
    "skew.plot_dry_adiabats()\n",
    "skew.plot_moist_adiabats()\n",
    "skew.plot_mixing_lines()\n",
    "\n",
    "skew.ax.set_xlim(-50, 60)\n",
    "\n",
    "fig = plt.gcf()"
   ]
  },
  {
   "cell_type": "code",
   "execution_count": null,
   "metadata": {},
   "outputs": [],
   "source": []
  }
 ],
 "metadata": {
  "kernelspec": {
   "display_name": "Python 3",
   "language": "python",
   "name": "python3"
  },
  "language_info": {
   "codemirror_mode": {
    "name": "ipython",
    "version": 3
   },
   "file_extension": ".py",
   "mimetype": "text/x-python",
   "name": "python",
   "nbconvert_exporter": "python",
   "pygments_lexer": "ipython3",
   "version": "3.8.5"
  }
 },
 "nbformat": 4,
 "nbformat_minor": 4
}
