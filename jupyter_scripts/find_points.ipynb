{
 "cells": [
  {
   "cell_type": "markdown",
   "metadata": {},
   "source": [
    "## JEITO NOVO"
   ]
  },
  {
   "cell_type": "code",
   "execution_count": 19,
   "metadata": {},
   "outputs": [
    {
     "name": "stdout",
     "output_type": "stream",
     "text": [
      "<xarray.DataArray 'xy' (x_y: 2)>\n",
      "array([49, 49])\n",
      "Coordinates:\n",
      "    latlon_coord  object CoordPair(lat=-30.85, lon=-55.68)\n",
      "  * x_y           (x_y) <U1 'x' 'y'\n"
     ]
    }
   ],
   "source": [
    "from netCDF4 import Dataset\n",
    "from wrf import getvar, interpline, CoordPair, xy_to_ll, ll_to_xy\n",
    "\n",
    "ncfile = Dataset('/media/lucasdmarten/HD/wrf/WRF/run/wrfout_d01_2018-05-22_18:00:00')\n",
    "\n",
    "x_y = ll_to_xy(ncfile, -30.85, -55.68)\n",
    "\n",
    "print (x_y)"
   ]
  },
  {
   "cell_type": "markdown",
   "metadata": {},
   "source": [
    "## JEITO ANTIGO"
   ]
  },
  {
   "cell_type": "code",
   "execution_count": 1,
   "metadata": {},
   "outputs": [],
   "source": [
    "from netCDF4 import Dataset\n",
    "import numpy as np\n",
    "from pandas import read_csv\n",
    "from wrf import getvar"
   ]
  },
  {
   "cell_type": "code",
   "execution_count": 2,
   "metadata": {},
   "outputs": [],
   "source": [
    "wrfile = Dataset('/media/lucasdmarten/HD/wrf/WRF/run/wrfout_d01_2018-05-22_18:00:00')\n",
    "torres = read_csv('/media/lucasdmarten/HD/backup/projetos/tcc/tcc/data/lat_lon_towers.txt', usecols=[1,2]).values\n",
    "lat = getvar(wrfile, 'lat').values\n",
    "lon = getvar(wrfile, 'lon').values"
   ]
  },
  {
   "cell_type": "code",
   "execution_count": 24,
   "metadata": {},
   "outputs": [
    {
     "data": {
      "text/plain": [
       "(-30.84703734324715, -55.736647725973654)"
      ]
     },
     "execution_count": 24,
     "metadata": {},
     "output_type": "execute_result"
    }
   ],
   "source": [
    "torres[0,0],torres[0,1]"
   ]
  },
  {
   "cell_type": "code",
   "execution_count": 25,
   "metadata": {},
   "outputs": [
    {
     "data": {
      "text/plain": [
       "(-30.85747533191794, -55.68136510684949)"
      ]
     },
     "execution_count": 25,
     "metadata": {},
     "output_type": "execute_result"
    }
   ],
   "source": [
    "torres[1,0],torres[1,1]"
   ]
  },
  {
   "cell_type": "code",
   "execution_count": 26,
   "metadata": {},
   "outputs": [
    {
     "data": {
      "text/plain": [
       "(-30.790008823154768, -55.705780235131826)"
      ]
     },
     "execution_count": 26,
     "metadata": {},
     "output_type": "execute_result"
    }
   ],
   "source": [
    "torres[2,0],torres[2,1]"
   ]
  },
  {
   "cell_type": "code",
   "execution_count": 20,
   "metadata": {},
   "outputs": [
    {
     "name": "stdout",
     "output_type": "stream",
     "text": [
      "[(array([49]), array([49])), (array([49]), array([49])), (array([49]), array([49]))]\n"
     ]
    }
   ],
   "source": [
    "n=0\n",
    "coordenada = []\n",
    "while n<3:\n",
    "    abslat = np.abs(lat-torres[n,0])\n",
    "    abslon = np.abs(lon-torres[n,1])\n",
    "    c = np.maximum(abslon,abslat) \n",
    "    x, y = np.where(c == np.min(c))\n",
    "    indx = x , y\n",
    "    coordenada.append(indx)\n",
    "    n+=1\n",
    "print(coordenada)"
   ]
  },
  {
   "cell_type": "code",
   "execution_count": 6,
   "metadata": {},
   "outputs": [
    {
     "name": "stdout",
     "output_type": "stream",
     "text": [
      "[-30.856998] [-55.681]\n",
      "[-30.856998] [-55.681]\n",
      "[-30.856998] [-55.681]\n"
     ]
    }
   ],
   "source": [
    "for i in coordenada:\n",
    "    print( lat[i], lon[i] )"
   ]
  }
 ],
 "metadata": {
  "kernelspec": {
   "display_name": "Python 3",
   "language": "python",
   "name": "python3"
  },
  "language_info": {
   "codemirror_mode": {
    "name": "ipython",
    "version": 3
   },
   "file_extension": ".py",
   "mimetype": "text/x-python",
   "name": "python",
   "nbconvert_exporter": "python",
   "pygments_lexer": "ipython3",
   "version": "3.8.5"
  }
 },
 "nbformat": 4,
 "nbformat_minor": 4
}
