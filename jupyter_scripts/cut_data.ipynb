{
 "cells": [
  {
   "cell_type": "code",
   "execution_count": 10,
   "metadata": {},
   "outputs": [],
   "source": [
    "import numpy as np\n",
    "from wrf import getvar, ALL_TIMES, interplevel, get_cartopy, to_np\n",
    "from netCDF4 import Dataset\n",
    "import matplotlib.pyplot as plt\n",
    "import pandas as pd\n",
    "from tqdm import tqdm"
   ]
  },
  {
   "cell_type": "code",
   "execution_count": 11,
   "metadata": {
    "scrolled": true
   },
   "outputs": [
    {
     "name": "stderr",
     "output_type": "stream",
     "text": [
      "100%|██████████| 1/1 [01:26<00:00, 86.89s/it]\n"
     ]
    }
   ],
   "source": [
    "for i in tqdm([5]):\n",
    "    geo = Dataset('/media/lucasdmarten/HD/wrf/domains/firstDomainPC/geo_em.d01.nc')\n",
    "    wrfile = Dataset('/media/lucasdmarten/HD/DADOS_TCC/RESULTADOS/CASO2/MEMBRO{}/wrfout_d01_2018-09-22_18:00:00'.format(i))\n",
    "    wspd = getvar(wrfile,'wspd_wdir', timeidx=ALL_TIMES)[0]\n",
    "    wdir = getvar(wrfile,'wspd_wdir', timeidx=ALL_TIMES)[1]\n",
    "    z = getvar(wrfile, 'z', units='m')\n",
    "    topo = getvar(geo,'HGT_M')\n",
    "    topo = int(topo[49,49].values)\n",
    "    speed_at67 = interplevel(wspd, z, 67+topo)[:,49,49]\n",
    "    dir_at65 = interplevel(wdir, z, 65.5+topo)[:,49,49]\n",
    "    \n",
    "    speed_at88 = interplevel(wspd, z, 88+topo)[:,49,49]\n",
    "    \n",
    "    speed_at108 = interplevel(wspd, z, 108+topo)[:,49,49]\n",
    "    dir_at106 = interplevel(wdir, z, 106.5+topo)[:,49,49]\n",
    "\n",
    "    T2=list(getvar(wrfile,'T2', timeidx=ALL_TIMES)[:,49,49].values)\n",
    "    PSFC=list(getvar(wrfile,'PSFC', timeidx=ALL_TIMES)[:,49,49].values/10**2)\n",
    "    wspd10 = list(getvar(wrfile,'wspd_wdir10', timeidx=ALL_TIMES)[0,:,49,49].values)\n",
    "    wspd67 = list(speed_at67.values)\n",
    "    wspd88 = list(speed_at88.values)\n",
    "    wspd108 = list(speed_at108.values)\n",
    "    wdir10 = list(getvar(wrfile,'wspd_wdir10', timeidx=ALL_TIMES)[1,:,49,49].values)\n",
    "    wdir65 = list(dir_at65.values)\n",
    "    wdir106 = list(dir_at106.values)\n",
    "    r2 = list(getvar(wrfile,'rh2', timeidx=ALL_TIMES)[:,49,49].values)\n",
    "    td2 = list(getvar(wrfile,'td2', timeidx=ALL_TIMES)[:,49,49].values)\n",
    "    times=list(pd.to_datetime(getvar(wrfile,'times', timeidx=ALL_TIMES)[:].values))\n",
    "\n",
    "    pd.DataFrame(\n",
    "        {\"times\":times,\"T2\":T2,\"R2\":r2,\"TD2\":td2,\"PSFC\":PSFC,\n",
    "         \"wspd10\":wspd10,\"wdir10\":wdir10,\n",
    "         \"wspd67\":wspd67,\"wdir65\":wdir65,\n",
    "         \"wspd88\":wspd88,\n",
    "         \"wspd108\":wspd108,\"wdir106\":wdir106}, dtype='int8'\n",
    "    ).to_csv('./c2.m{}.csv'.format(i), index=False)"
   ]
  },
  {
   "cell_type": "code",
   "execution_count": 8,
   "metadata": {},
   "outputs": [
    {
     "data": {
      "text/plain": [
       "2"
      ]
     },
     "execution_count": 8,
     "metadata": {},
     "output_type": "execute_result"
    }
   ],
   "source": [
    "i"
   ]
  },
  {
   "cell_type": "code",
   "execution_count": null,
   "metadata": {},
   "outputs": [],
   "source": []
  },
  {
   "cell_type": "code",
   "execution_count": null,
   "metadata": {},
   "outputs": [],
   "source": []
  }
 ],
 "metadata": {
  "kernelspec": {
   "display_name": "Python 3",
   "language": "python",
   "name": "python3"
  },
  "language_info": {
   "codemirror_mode": {
    "name": "ipython",
    "version": 3
   },
   "file_extension": ".py",
   "mimetype": "text/x-python",
   "name": "python",
   "nbconvert_exporter": "python",
   "pygments_lexer": "ipython3",
   "version": "3.8.5"
  }
 },
 "nbformat": 4,
 "nbformat_minor": 4
}
