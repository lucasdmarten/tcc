{
 "cells": [
  {
   "cell_type": "markdown",
   "metadata": {},
   "source": [
    "## JEITO NOVO"
   ]
  },
  {
   "cell_type": "code",
   "execution_count": null,
   "metadata": {},
   "outputs": [],
   "source": [
    "from netCDF4 import Dataset\n",
    "from wrf import ll_to_xy\n",
    "\n",
    "ncfile = Dataset('/media/lucasdmarten/HD/wrf/WRF/run/wrfout_d01_2018-05-22_18:00:00')\n",
    "\n",
    "x_y = ll_to_xy(ncfile, -29.72, -53.70)\n",
    "\n",
    "print (x_y)"
   ]
  },
  {
   "cell_type": "markdown",
   "metadata": {},
   "source": [
    "indices para torres parque eolico = 49,49"
   ]
  },
  {
   "cell_type": "markdown",
   "metadata": {},
   "source": [
    "indices para radio sonda Santa Maria = 62,57"
   ]
  },
  {
   "cell_type": "markdown",
   "metadata": {},
   "source": [
    "## JEITO ANTIGO"
   ]
  },
  {
   "cell_type": "code",
   "execution_count": null,
   "metadata": {},
   "outputs": [],
   "source": [
    "from netCDF4 import Dataset\n",
    "import numpy as np\n",
    "from pandas import read_csv\n",
    "from wrf import getvar"
   ]
  },
  {
   "cell_type": "code",
   "execution_count": null,
   "metadata": {},
   "outputs": [],
   "source": [
    "wrfile = Dataset('/media/lucasdmarten/HD/wrf/WRF/run/wrfout_d01_2018-05-22_18:00:00')\n",
    "torres = read_csv('/media/lucasdmarten/HD/backup/projetos/tcc/tcc/data/lat_lon_towers.txt', usecols=[1,2]).values\n",
    "lat = getvar(wrfile, 'lat').values\n",
    "lon = getvar(wrfile, 'lon').values"
   ]
  },
  {
   "cell_type": "code",
   "execution_count": null,
   "metadata": {},
   "outputs": [],
   "source": [
    "torres[0,0],torres[0,1]"
   ]
  },
  {
   "cell_type": "code",
   "execution_count": null,
   "metadata": {},
   "outputs": [],
   "source": [
    "torres[1,0],torres[1,1]"
   ]
  },
  {
   "cell_type": "code",
   "execution_count": null,
   "metadata": {},
   "outputs": [],
   "source": [
    "torres[2,0],torres[2,1]"
   ]
  },
  {
   "cell_type": "code",
   "execution_count": null,
   "metadata": {},
   "outputs": [],
   "source": [
    "n=0\n",
    "coordenada = []\n",
    "while n<3:\n",
    "    abslat = np.abs(lat-torres[n,0])\n",
    "    abslon = np.abs(lon-torres[n,1])\n",
    "    c = np.maximum(abslon,abslat) \n",
    "    x, y = np.where(c == np.min(c))\n",
    "    indx = x , y\n",
    "    coordenada.append(indx)\n",
    "    n+=1\n",
    "print(coordenada)"
   ]
  },
  {
   "cell_type": "code",
   "execution_count": null,
   "metadata": {},
   "outputs": [],
   "source": [
    "for i in coordenada:\n",
    "    print( lat[i], lon[i] )"
   ]
  }
 ],
 "metadata": {
  "kernelspec": {
   "display_name": "Python 3",
   "language": "python",
   "name": "python3"
  },
  "language_info": {
   "codemirror_mode": {
    "name": "ipython",
    "version": 3
   },
   "file_extension": ".py",
   "mimetype": "text/x-python",
   "name": "python",
   "nbconvert_exporter": "python",
   "pygments_lexer": "ipython3",
   "version": "3.8.5"
  }
 },
 "nbformat": 4,
 "nbformat_minor": 4
}
