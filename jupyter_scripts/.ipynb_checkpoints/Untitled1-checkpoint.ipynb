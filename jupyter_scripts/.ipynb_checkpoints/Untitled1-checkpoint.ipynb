{
 "cells": [
  {
   "cell_type": "code",
   "execution_count": 6,
   "metadata": {},
   "outputs": [],
   "source": [
    "adas = [7.32,8.5,11.84,18.84,10,7.24]\n",
    "price = [1.87,1.67,1.56,1.13,1.42,1.39]"
   ]
  },
  {
   "cell_type": "code",
   "execution_count": 9,
   "metadata": {},
   "outputs": [],
   "source": [
    "proporcao=[]\n",
    "for i in range(len(adas)):\n",
    "    proporcao.append((adas[i])/sum(adas))"
   ]
  },
  {
   "cell_type": "code",
   "execution_count": 24,
   "metadata": {},
   "outputs": [
    {
     "data": {
      "text/plain": [
       "['11.0%', '13.0%', '19.0%', '30.0%', '16.0%', '11.0%']"
      ]
     },
     "execution_count": 24,
     "metadata": {},
     "output_type": "execute_result"
    }
   ],
   "source": [
    "[str(round(x,2)*100)+'%' for x in proporcao]"
   ]
  },
  {
   "cell_type": "code",
   "execution_count": 18,
   "metadata": {},
   "outputs": [
    {
     "name": "stdout",
     "output_type": "stream",
     "text": [
      "0.2147536868528397\n",
      "0.43745528710385945\n",
      "0.727232507059931\n",
      "1.0612331346093504\n",
      "1.2840131785378097\n",
      "1.4418983369940381\n",
      "--------------------------------------------------------------------------------------------------------------------------------------------------------------------------------------------------------\n",
      "metodo ponderado\n",
      "1.4418983369940381\n",
      "--------------------------------------------------------------------------------------------------------------------------------------------------------------------------------------------------------\n",
      "metodo não ponderado\n",
      "1.5066666666666666\n"
     ]
    }
   ],
   "source": [
    "soma=0\n",
    "for p in range(len(proporcao)):\n",
    "        soma+=(adas[p]/sum(adas))*price[p]\n",
    "        print(soma)\n",
    "print('--'*100)\n",
    "print('metodo ponderado')\n",
    "print(soma)\n",
    "print('--'*100)\n",
    "print('metodo não ponderado')\n",
    "print(sum(price)/len(price))"
   ]
  },
  {
   "cell_type": "code",
   "execution_count": null,
   "metadata": {},
   "outputs": [],
   "source": []
  }
 ],
 "metadata": {
  "kernelspec": {
   "display_name": "Python 3",
   "language": "python",
   "name": "python3"
  },
  "language_info": {
   "codemirror_mode": {
    "name": "ipython",
    "version": 3
   },
   "file_extension": ".py",
   "mimetype": "text/x-python",
   "name": "python",
   "nbconvert_exporter": "python",
   "pygments_lexer": "ipython3",
   "version": "3.8.5"
  }
 },
 "nbformat": 4,
 "nbformat_minor": 4
}
