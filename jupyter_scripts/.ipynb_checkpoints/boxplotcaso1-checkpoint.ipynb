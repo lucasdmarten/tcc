{
 "cells": [
  {
   "cell_type": "code",
   "execution_count": 2,
   "metadata": {},
   "outputs": [],
   "source": [
    "import pandas as pd\n",
    "import numpy as np\n",
    "import matplotlib.pyplot as plt\n",
    "import datetime"
   ]
  },
  {
   "cell_type": "code",
   "execution_count": 3,
   "metadata": {},
   "outputs": [],
   "source": [
    "d = pd.read_csv('../tcc/data/ecc1_.csv')\n",
    "dCaso1 = d[(d.data>'2018-05-23') & (d.data<'2018-05-25')]\n",
    "predict = pd.read_csv('../../../../DADOS_TCC/RESULTADOS/CASO1/MEMBRO2/c1.m2.csv',usecols=[0,10,11])"
   ]
  },
  {
   "cell_type": "code",
   "execution_count": 84,
   "metadata": {},
   "outputs": [],
   "source": [
    "# criar lista datetime\n",
    "di = datetime.datetime(2018,5,23,0)\n",
    "df = datetime.datetime(2018,5,25,0)\n",
    "dates = []\n",
    "while di < df:\n",
    "    dates.append(di)\n",
    "    di += datetime.timedelta(hours=3)\n",
    "\n",
    "\n",
    "# str to obj_time\n",
    "def converttoobj(time_str):\n",
    "    time_obj = datetime.datetime.strptime(time_str, '%Y-%m-%d %H:%M:%S')\n",
    "    return time_obj    "
   ]
  },
  {
   "cell_type": "code",
   "execution_count": 103,
   "metadata": {},
   "outputs": [],
   "source": [
    "i=0"
   ]
  },
  {
   "cell_type": "code",
   "execution_count": 110,
   "metadata": {},
   "outputs": [
    {
     "data": {
      "text/plain": [
       "'2018-05-23 03:00:00'"
      ]
     },
     "execution_count": 110,
     "metadata": {},
     "output_type": "execute_result"
    }
   ],
   "source": [
    "dCaso1.iloc[i:i+18+1,0].to_list()[-1]"
   ]
  },
  {
   "cell_type": "code",
   "execution_count": 151,
   "metadata": {},
   "outputs": [
    {
     "data": {
      "text/plain": [
       "['23/05 - 03hrs',\n",
       " '23/05 - 06hrs',\n",
       " '23/05 - 09hrs',\n",
       " '23/05 - 12hrs',\n",
       " '23/05 - 15hrs',\n",
       " '23/05 - 18hrs',\n",
       " '23/05 - 21hrs',\n",
       " '24/05 - 00hrs',\n",
       " '24/05 - 03hrs',\n",
       " '24/05 - 06hrs',\n",
       " '24/05 - 09hrs',\n",
       " '24/05 - 12hrs',\n",
       " '24/05 - 15hrs',\n",
       " '24/05 - 18hrs',\n",
       " '24/05 - 21hrs',\n",
       " '24/05 - 23hrs']"
      ]
     },
     "execution_count": 151,
     "metadata": {},
     "output_type": "execute_result"
    }
   ],
   "source": [
    "\n",
    "# preparar dado para vizualizar em boxplot, considerando cada intervalo de 3 hras\n",
    "box=[]\n",
    "p_spdbox=[]\n",
    "p_dirbox=[]\n",
    "datas=[]\n",
    "i=0\n",
    "while i < 288:\n",
    "    p_dirbox.append(list(map(float,predict.iloc[i:i+18+1,2].to_list())))    \n",
    "    \n",
    "    p_spdbox.append(list(map(float,predict.iloc[i:i+18+1,1].to_list())))\n",
    "    \n",
    "    box.append(list(map(float,dCaso1.iloc[i:i+18+1,6].to_list())))\n",
    "    \n",
    "    datas.append(list(map(str,dCaso1.iloc[i:i+18+1,0].to_list()))[-1])\n",
    "    \n",
    "    i+=18\n",
    "newdates=[]\n",
    "for i in range(len(datas)):\n",
    "    date_obj = datetime.datetime.strptime(datas[i], '%Y-%m-%d %H:%M:%S')\n",
    "    newdates.append('{:02d}/{:02d} - {:02d}hrs'.format(date_obj.day,date_obj.month,date_obj.hour))\n",
    "newdates"
   ]
  },
  {
   "cell_type": "code",
   "execution_count": 115,
   "metadata": {},
   "outputs": [
    {
     "name": "stdout",
     "output_type": "stream",
     "text": [
      "Variancia do período: 2.6225711757330243 \n",
      "\n",
      "Desvio padrão do período: 1.6194354496962897 \n",
      "\n",
      "Média do período: 3.1936805555555554 \n",
      "\n"
     ]
    }
   ],
   "source": [
    "print(\n",
    "        'Variancia do período: {} \\n'.format(np.var(dCaso1.iloc[:,6].astype('float').to_list()))   \n",
    ")\n",
    "print(\n",
    "        'Desvio padrão do período: {} \\n'.format(np.std(dCaso1.iloc[:,6].astype('float').to_list()))\n",
    ")\n",
    "print(\n",
    "        'Média do período: {} \\n'.format(np.mean(dCaso1.iloc[:,6].astype('float').to_list()))\n",
    ")"
   ]
  },
  {
   "cell_type": "code",
   "execution_count": 161,
   "metadata": {},
   "outputs": [
    {
     "name": "stdout",
     "output_type": "stream",
     "text": [
      "Variancia do período: 4.119157949901137 \n",
      "\n",
      "Desvio padrão do período: 2.029570878264944 \n",
      "\n",
      "Média do período: 4.453876384127527 \n",
      "\n"
     ]
    }
   ],
   "source": [
    "media_horaria=[]\n",
    "for i in range(len(p_spdbox)):\n",
    "    media_horaria.append(np.mean(p_spdbox[i]))\n",
    "print(\n",
    "        'Variancia do período: {} \\n'.format(np.var(media_horaria))   \n",
    ")\n",
    "print(\n",
    "        'Desvio padrão do período: {} \\n'.format(np.std(media_horaria))\n",
    ")\n",
    "print(\n",
    "        'Média do período: {} \\n'.format(np.mean(media_horaria))\n",
    ")"
   ]
  },
  {
   "cell_type": "code",
   "execution_count": 195,
   "metadata": {},
   "outputs": [],
   "source": [
    "plt.legend?"
   ]
  },
  {
   "cell_type": "code",
   "execution_count": 198,
   "metadata": {
    "scrolled": false
   },
   "outputs": [
    {
     "ename": "TypeError",
     "evalue": "boxplot() got an unexpected keyword argument 'label'",
     "output_type": "error",
     "traceback": [
      "\u001b[0;31m---------------------------------------------------------------------------\u001b[0m",
      "\u001b[0;31mTypeError\u001b[0m                                 Traceback (most recent call last)",
      "\u001b[0;32m<ipython-input-198-2c834f3262bd>\u001b[0m in \u001b[0;36m<module>\u001b[0;34m\u001b[0m\n\u001b[1;32m      8\u001b[0m \u001b[0mline\u001b[0m \u001b[0;34m=\u001b[0m \u001b[0maxs\u001b[0m\u001b[0;34m[\u001b[0m\u001b[0;36m0\u001b[0m\u001b[0;34m]\u001b[0m\u001b[0;34m.\u001b[0m\u001b[0mplot\u001b[0m\u001b[0;34m(\u001b[0m\u001b[0mmedia_horaria\u001b[0m\u001b[0;34m,\u001b[0m\u001b[0;34m'--'\u001b[0m\u001b[0;34m,\u001b[0m \u001b[0mlabel\u001b[0m\u001b[0;34m=\u001b[0m\u001b[0;34m'Previsão'\u001b[0m\u001b[0;34m)\u001b[0m\u001b[0;34m\u001b[0m\u001b[0;34m\u001b[0m\u001b[0m\n\u001b[1;32m      9\u001b[0m \u001b[0;34m\u001b[0m\u001b[0m\n\u001b[0;32m---> 10\u001b[0;31m bplot2 = axs[1].boxplot(x=p_spdbox,vert=True,  # vertical box alignment\n\u001b[0m\u001b[1;32m     11\u001b[0m              \u001b[0mpatch_artist\u001b[0m\u001b[0;34m=\u001b[0m\u001b[0;32mTrue\u001b[0m\u001b[0;34m,\u001b[0m  \u001b[0;31m# fill with color\u001b[0m\u001b[0;34m\u001b[0m\u001b[0;34m\u001b[0m\u001b[0m\n\u001b[1;32m     12\u001b[0m              labels=newdates, label='Inline label')  # will be used to label x-tick\n",
      "\u001b[0;32m~/anaconda3/lib/python3.8/site-packages/matplotlib/__init__.py\u001b[0m in \u001b[0;36minner\u001b[0;34m(ax, data, *args, **kwargs)\u001b[0m\n\u001b[1;32m   1436\u001b[0m     \u001b[0;32mdef\u001b[0m \u001b[0minner\u001b[0m\u001b[0;34m(\u001b[0m\u001b[0max\u001b[0m\u001b[0;34m,\u001b[0m \u001b[0;34m*\u001b[0m\u001b[0margs\u001b[0m\u001b[0;34m,\u001b[0m \u001b[0mdata\u001b[0m\u001b[0;34m=\u001b[0m\u001b[0;32mNone\u001b[0m\u001b[0;34m,\u001b[0m \u001b[0;34m**\u001b[0m\u001b[0mkwargs\u001b[0m\u001b[0;34m)\u001b[0m\u001b[0;34m:\u001b[0m\u001b[0;34m\u001b[0m\u001b[0;34m\u001b[0m\u001b[0m\n\u001b[1;32m   1437\u001b[0m         \u001b[0;32mif\u001b[0m \u001b[0mdata\u001b[0m \u001b[0;32mis\u001b[0m \u001b[0;32mNone\u001b[0m\u001b[0;34m:\u001b[0m\u001b[0;34m\u001b[0m\u001b[0;34m\u001b[0m\u001b[0m\n\u001b[0;32m-> 1438\u001b[0;31m             \u001b[0;32mreturn\u001b[0m \u001b[0mfunc\u001b[0m\u001b[0;34m(\u001b[0m\u001b[0max\u001b[0m\u001b[0;34m,\u001b[0m \u001b[0;34m*\u001b[0m\u001b[0mmap\u001b[0m\u001b[0;34m(\u001b[0m\u001b[0msanitize_sequence\u001b[0m\u001b[0;34m,\u001b[0m \u001b[0margs\u001b[0m\u001b[0;34m)\u001b[0m\u001b[0;34m,\u001b[0m \u001b[0;34m**\u001b[0m\u001b[0mkwargs\u001b[0m\u001b[0;34m)\u001b[0m\u001b[0;34m\u001b[0m\u001b[0;34m\u001b[0m\u001b[0m\n\u001b[0m\u001b[1;32m   1439\u001b[0m \u001b[0;34m\u001b[0m\u001b[0m\n\u001b[1;32m   1440\u001b[0m         \u001b[0mbound\u001b[0m \u001b[0;34m=\u001b[0m \u001b[0mnew_sig\u001b[0m\u001b[0;34m.\u001b[0m\u001b[0mbind\u001b[0m\u001b[0;34m(\u001b[0m\u001b[0max\u001b[0m\u001b[0;34m,\u001b[0m \u001b[0;34m*\u001b[0m\u001b[0margs\u001b[0m\u001b[0;34m,\u001b[0m \u001b[0;34m**\u001b[0m\u001b[0mkwargs\u001b[0m\u001b[0;34m)\u001b[0m\u001b[0;34m\u001b[0m\u001b[0;34m\u001b[0m\u001b[0m\n",
      "\u001b[0;31mTypeError\u001b[0m: boxplot() got an unexpected keyword argument 'label'"
     ]
    },
    {
     "data": {
      "image/png": "[encoded data removed]",
      "text/plain": [
       "<Figure size 1440x1008 with 2 Axes>"
      ]
     },
     "metadata": {
      "needs_background": "light"
     },
     "output_type": "display_data"
    }
   ],
   "source": [
    "# fig = plt.figure(figsize =(20, 14))\n",
    "fig, axs = plt.subplots(2,figsize =(20, 14))\n",
    "\n",
    "# Creating plot\n",
    "bplot1 = axs[0].boxplot(x=box,vert=True,  # vertical box alignment\n",
    "             patch_artist=True)  # will be used to label x-ticks\n",
    "\n",
    "line = axs[0].plot(media_horaria,'--', label='Previsão')\n",
    "\n",
    "bplot2 = axs[1].boxplot(x=p_spdbox,vert=True,  # vertical box alignment\n",
    "             patch_artist=True,  # fill with color\n",
    "             labels=newdates)  # will be used to label x-tick\n",
    "\n",
    "degrees = 70\n",
    "plt.xticks(rotation=degrees)\n",
    "# plt.ylabel(\"Velocidade (m/s)\", fontsize=25)\n",
    "# plt.xlabel(\"Tempo\", fontsize=25)\n",
    "# plt.yticks(fontsize=15)\n",
    "# plt.xticks(fontsize=15)\n",
    "axs[0].set_ylim(0,10)\n",
    "axs[0].grid(True)\n",
    "axs[0].set_title(\"Velocidade média do vento torre ECC1\",  fontsize=15)\n",
    "axs[0].set_ylabel(\"Velocidade (m/s)\", fontsize=25)\n",
    "axs[0].legend()\n",
    "axs[1].set_ylim(0,10)\n",
    "axs[1].grid(True)\n",
    "axs[1].set_title(\"Velocidade média do vento WRF\",  fontsize=15)\n",
    "axs[1].set_ylabel(\"Velocidade (m/s)\", fontsize=25)\n",
    "axs[1].set_xlabel(\"Tempo\", fontsize=25)\n",
    "\n",
    "# show plot\n",
    "plt.savefig('boxplot2.png',dpi=300)\n",
    "plt.show()"
   ]
  },
  {
   "cell_type": "code",
   "execution_count": 57,
   "metadata": {},
   "outputs": [],
   "source": []
  },
  {
   "cell_type": "code",
   "execution_count": 180,
   "metadata": {},
   "outputs": [
    {
     "data": {
      "text/plain": [
       "[<matplotlib.lines.Line2D at 0x7fce42df89d0>]"
      ]
     },
     "execution_count": 180,
     "metadata": {},
     "output_type": "execute_result"
    },
    {
     "data": {
      "image/png": "[encoded data removed]",
      "text/plain": [
       "<Figure size 432x288 with 1 Axes>"
      ]
     },
     "metadata": {
      "needs_background": "light"
     },
     "output_type": "display_data"
    }
   ],
   "source": [
    "plt.plot(media_horaria)"
   ]
  },
  {
   "cell_type": "code",
   "execution_count": null,
   "metadata": {},
   "outputs": [],
   "source": []
  }
 ],
 "metadata": {
  "kernelspec": {
   "display_name": "Python 3",
   "language": "python",
   "name": "python3"
  },
  "language_info": {
   "codemirror_mode": {
    "name": "ipython",
    "version": 3
   },
   "file_extension": ".py",
   "mimetype": "text/x-python",
   "name": "python",
   "nbconvert_exporter": "python",
   "pygments_lexer": "ipython3",
   "version": "3.8.5"
  }
 },
 "nbformat": 4,
 "nbformat_minor": 5
}
