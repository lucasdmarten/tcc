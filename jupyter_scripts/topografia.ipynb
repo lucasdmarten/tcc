{
 "cells": [
  {
   "cell_type": "code",
   "execution_count": 12,
   "metadata": {},
   "outputs": [],
   "source": [
    "import os\n",
    "import glob \n",
    "import numpy as np\n",
    "\n",
    "# Work on output of wrf\n",
    "from wrf import getvar, ALL_TIMES, interplevel, get_cartopy, to_np\n",
    "\n",
    "# Calculate fields\n",
    "import metpy.calc as mpcalc\n",
    "from metpy.units import units\n",
    "\n",
    "# Import file netCDF4\n",
    "from netCDF4 import Dataset\n",
    "\n",
    "# Make plots\n",
    "import matplotlib.pyplot as plt\n",
    "from matplotlib.cm import get_cmap\n",
    "from matplotlib import cm\n",
    "from downcast import reduce\n",
    "import pandas as pd\n",
    "# Work with projections\n",
    "from cartopy.mpl.gridliner import LONGITUDE_FORMATTER, LATITUDE_FORMATTER\n",
    "import cartopy.crs as ccrs\n",
    "from cartopy.feature import NaturalEarthFeature\n",
    "import cartopy.feature as cf"
   ]
  },
  {
   "cell_type": "code",
   "execution_count": 13,
   "metadata": {},
   "outputs": [],
   "source": [
    "df = pd.read_csv('/media/lucasdmarten/HD/backup/projetos/tcc/tcc/data/altimetria/30_57_cor_rec.txt',\n",
    "                  names=['lon','lat','alt'], delimiter='\\s+').drop_duplicates()\n",
    "df = reduce(df)"
   ]
  },
  {
   "cell_type": "code",
   "execution_count": 16,
   "metadata": {},
   "outputs": [
    {
     "data": {
      "text/plain": [
       "-55.736647725973654"
      ]
     },
     "execution_count": 16,
     "metadata": {},
     "output_type": "execute_result"
    }
   ],
   "source": [
    "coords = (-55.736647725973654, -55.68136510684949, -30.85747533191794, -30.790008823154768)\n",
    "coords[0]"
   ]
  },
  {
   "cell_type": "code",
   "execution_count": 17,
   "metadata": {},
   "outputs": [],
   "source": [
    "df = df[ (df.lon>=coords[0]) & (df.lon<=coords[1]) & (df.lat>=coords[2]) & (df.lat<=coords[3]) ]"
   ]
  },
  {
   "cell_type": "code",
   "execution_count": 18,
   "metadata": {},
   "outputs": [
    {
     "data": {
      "text/html": [
       "<div>\n",
       "<style scoped>\n",
       "    .dataframe tbody tr th:only-of-type {\n",
       "        vertical-align: middle;\n",
       "    }\n",
       "\n",
       "    .dataframe tbody tr th {\n",
       "        vertical-align: top;\n",
       "    }\n",
       "\n",
       "    .dataframe thead th {\n",
       "        text-align: right;\n",
       "    }\n",
       "</style>\n",
       "<table border=\"1\" class=\"dataframe\">\n",
       "  <thead>\n",
       "    <tr style=\"text-align: right;\">\n",
       "      <th></th>\n",
       "      <th>lon</th>\n",
       "      <th>lat</th>\n",
       "      <th>alt</th>\n",
       "    </tr>\n",
       "  </thead>\n",
       "  <tbody>\n",
       "    <tr>\n",
       "      <th>1818732</th>\n",
       "      <td>-55.7500</td>\n",
       "      <td>-30.796875</td>\n",
       "      <td>284.0</td>\n",
       "    </tr>\n",
       "    <tr>\n",
       "      <th>1818733</th>\n",
       "      <td>-55.7500</td>\n",
       "      <td>-30.796875</td>\n",
       "      <td>285.0</td>\n",
       "    </tr>\n",
       "    <tr>\n",
       "      <th>1818734</th>\n",
       "      <td>-55.7500</td>\n",
       "      <td>-30.796875</td>\n",
       "      <td>285.0</td>\n",
       "    </tr>\n",
       "    <tr>\n",
       "      <th>1818735</th>\n",
       "      <td>-55.7500</td>\n",
       "      <td>-30.796875</td>\n",
       "      <td>286.0</td>\n",
       "    </tr>\n",
       "    <tr>\n",
       "      <th>1818736</th>\n",
       "      <td>-55.7500</td>\n",
       "      <td>-30.796875</td>\n",
       "      <td>287.0</td>\n",
       "    </tr>\n",
       "    <tr>\n",
       "      <th>...</th>\n",
       "      <td>...</td>\n",
       "      <td>...</td>\n",
       "      <td>...</td>\n",
       "    </tr>\n",
       "    <tr>\n",
       "      <th>1991819</th>\n",
       "      <td>-55.6875</td>\n",
       "      <td>-30.859375</td>\n",
       "      <td>342.0</td>\n",
       "    </tr>\n",
       "    <tr>\n",
       "      <th>1991820</th>\n",
       "      <td>-55.6875</td>\n",
       "      <td>-30.859375</td>\n",
       "      <td>342.0</td>\n",
       "    </tr>\n",
       "    <tr>\n",
       "      <th>1991821</th>\n",
       "      <td>-55.6875</td>\n",
       "      <td>-30.859375</td>\n",
       "      <td>344.0</td>\n",
       "    </tr>\n",
       "    <tr>\n",
       "      <th>1991822</th>\n",
       "      <td>-55.6875</td>\n",
       "      <td>-30.859375</td>\n",
       "      <td>344.0</td>\n",
       "    </tr>\n",
       "    <tr>\n",
       "      <th>1991823</th>\n",
       "      <td>-55.6875</td>\n",
       "      <td>-30.859375</td>\n",
       "      <td>346.0</td>\n",
       "    </tr>\n",
       "  </tbody>\n",
       "</table>\n",
       "<p>10528 rows × 3 columns</p>\n",
       "</div>"
      ],
      "text/plain": [
       "             lon        lat    alt\n",
       "1818732 -55.7500 -30.796875  284.0\n",
       "1818733 -55.7500 -30.796875  285.0\n",
       "1818734 -55.7500 -30.796875  285.0\n",
       "1818735 -55.7500 -30.796875  286.0\n",
       "1818736 -55.7500 -30.796875  287.0\n",
       "...          ...        ...    ...\n",
       "1991819 -55.6875 -30.859375  342.0\n",
       "1991820 -55.6875 -30.859375  342.0\n",
       "1991821 -55.6875 -30.859375  344.0\n",
       "1991822 -55.6875 -30.859375  344.0\n",
       "1991823 -55.6875 -30.859375  346.0\n",
       "\n",
       "[10528 rows x 3 columns]"
      ]
     },
     "execution_count": 18,
     "metadata": {},
     "output_type": "execute_result"
    }
   ],
   "source": [
    "df"
   ]
  },
  {
   "cell_type": "code",
   "execution_count": 19,
   "metadata": {},
   "outputs": [
    {
     "data": {
      "text/plain": [
       "((10528,), (10528,), (10528,))"
      ]
     },
     "execution_count": 19,
     "metadata": {},
     "output_type": "execute_result"
    }
   ],
   "source": [
    "lon=df.lon\n",
    "lat=df.lat\n",
    "alt=df.alt\n",
    "lon.shape,lat.shape,alt.shape"
   ]
  },
  {
   "cell_type": "code",
   "execution_count": 27,
   "metadata": {
    "collapsed": true
   },
   "outputs": [
    {
     "data": {
      "text/plain": [
       "1822487   -30.7908\n",
       "1822488   -30.7908\n",
       "1822489   -30.7908\n",
       "1822490   -30.7908\n",
       "1822491   -30.7908\n",
       "            ...   \n",
       "1841122   -30.7991\n",
       "1841123   -30.7991\n",
       "1841124   -30.7991\n",
       "1841125   -30.7991\n",
       "1841126   -30.7991\n",
       "Name: lat, Length: 700, dtype: float64"
      ]
     },
     "execution_count": 27,
     "metadata": {},
     "output_type": "execute_result"
    }
   ],
   "source": [
    "lat"
   ]
  },
  {
   "cell_type": "code",
   "execution_count": 26,
   "metadata": {
    "collapsed": true
   },
   "outputs": [
    {
     "data": {
      "text/html": [
       "<div>\n",
       "<style scoped>\n",
       "    .dataframe tbody tr th:only-of-type {\n",
       "        vertical-align: middle;\n",
       "    }\n",
       "\n",
       "    .dataframe tbody tr th {\n",
       "        vertical-align: top;\n",
       "    }\n",
       "\n",
       "    .dataframe thead th {\n",
       "        text-align: right;\n",
       "    }\n",
       "</style>\n",
       "<table border=\"1\" class=\"dataframe\">\n",
       "  <thead>\n",
       "    <tr style=\"text-align: right;\">\n",
       "      <th></th>\n",
       "      <th>lon</th>\n",
       "      <th>lat</th>\n",
       "      <th>alt</th>\n",
       "    </tr>\n",
       "  </thead>\n",
       "  <tbody>\n",
       "    <tr>\n",
       "      <th>1822487</th>\n",
       "      <td>-55.7358</td>\n",
       "      <td>-30.7908</td>\n",
       "      <td>296.0</td>\n",
       "    </tr>\n",
       "    <tr>\n",
       "      <th>1822488</th>\n",
       "      <td>-55.7350</td>\n",
       "      <td>-30.7908</td>\n",
       "      <td>294.0</td>\n",
       "    </tr>\n",
       "    <tr>\n",
       "      <th>1822489</th>\n",
       "      <td>-55.7342</td>\n",
       "      <td>-30.7908</td>\n",
       "      <td>293.0</td>\n",
       "    </tr>\n",
       "    <tr>\n",
       "      <th>1822490</th>\n",
       "      <td>-55.7333</td>\n",
       "      <td>-30.7908</td>\n",
       "      <td>295.0</td>\n",
       "    </tr>\n",
       "    <tr>\n",
       "      <th>1822491</th>\n",
       "      <td>-55.7325</td>\n",
       "      <td>-30.7908</td>\n",
       "      <td>296.0</td>\n",
       "    </tr>\n",
       "    <tr>\n",
       "      <th>...</th>\n",
       "      <td>...</td>\n",
       "      <td>...</td>\n",
       "      <td>...</td>\n",
       "    </tr>\n",
       "    <tr>\n",
       "      <th>1841122</th>\n",
       "      <td>-55.7067</td>\n",
       "      <td>-30.7991</td>\n",
       "      <td>311.0</td>\n",
       "    </tr>\n",
       "    <tr>\n",
       "      <th>1841123</th>\n",
       "      <td>-55.7058</td>\n",
       "      <td>-30.7991</td>\n",
       "      <td>308.0</td>\n",
       "    </tr>\n",
       "    <tr>\n",
       "      <th>1841124</th>\n",
       "      <td>-55.7050</td>\n",
       "      <td>-30.7991</td>\n",
       "      <td>310.0</td>\n",
       "    </tr>\n",
       "    <tr>\n",
       "      <th>1841125</th>\n",
       "      <td>-55.7042</td>\n",
       "      <td>-30.7991</td>\n",
       "      <td>311.0</td>\n",
       "    </tr>\n",
       "    <tr>\n",
       "      <th>1841126</th>\n",
       "      <td>-55.7033</td>\n",
       "      <td>-30.7991</td>\n",
       "      <td>312.0</td>\n",
       "    </tr>\n",
       "  </tbody>\n",
       "</table>\n",
       "<p>700 rows × 3 columns</p>\n",
       "</div>"
      ],
      "text/plain": [
       "             lon      lat    alt\n",
       "1822487 -55.7358 -30.7908  296.0\n",
       "1822488 -55.7350 -30.7908  294.0\n",
       "1822489 -55.7342 -30.7908  293.0\n",
       "1822490 -55.7333 -30.7908  295.0\n",
       "1822491 -55.7325 -30.7908  296.0\n",
       "...          ...      ...    ...\n",
       "1841122 -55.7067 -30.7991  311.0\n",
       "1841123 -55.7058 -30.7991  308.0\n",
       "1841124 -55.7050 -30.7991  310.0\n",
       "1841125 -55.7042 -30.7991  311.0\n",
       "1841126 -55.7033 -30.7991  312.0\n",
       "\n",
       "[700 rows x 3 columns]"
      ]
     },
     "execution_count": 26,
     "metadata": {},
     "output_type": "execute_result"
    }
   ],
   "source": [
    "df"
   ]
  },
  {
   "cell_type": "code",
   "execution_count": 28,
   "metadata": {},
   "outputs": [
    {
     "data": {
      "text/plain": [
       "1822487   -55.7358\n",
       "1822488   -55.7350\n",
       "1822489   -55.7342\n",
       "1822490   -55.7333\n",
       "1822491   -55.7325\n",
       "            ...   \n",
       "1841122   -55.7067\n",
       "1841123   -55.7058\n",
       "1841124   -55.7050\n",
       "1841125   -55.7042\n",
       "1841126   -55.7033\n",
       "Name: lon, Length: 700, dtype: float64"
      ]
     },
     "execution_count": 28,
     "metadata": {},
     "output_type": "execute_result"
    }
   ],
   "source": [
    "lon"
   ]
  },
  {
   "cell_type": "code",
   "execution_count": 20,
   "metadata": {},
   "outputs": [
    {
     "ename": "MemoryError",
     "evalue": "Unable to allocate 2.12 TiB for an array with shape (10528, 10528, 10528) and data type float16",
     "output_type": "error",
     "traceback": [
      "\u001b[0;31m---------------------------------------------------------------------------\u001b[0m",
      "\u001b[0;31mMemoryError\u001b[0m                               Traceback (most recent call last)",
      "\u001b[0;32m<ipython-input-20-55d8df80f517>\u001b[0m in \u001b[0;36m<module>\u001b[0;34m\u001b[0m\n\u001b[0;32m----> 1\u001b[0;31m \u001b[0mx\u001b[0m\u001b[0;34m,\u001b[0m\u001b[0my\u001b[0m\u001b[0;34m,\u001b[0m\u001b[0mz\u001b[0m \u001b[0;34m=\u001b[0m \u001b[0mnp\u001b[0m\u001b[0;34m.\u001b[0m\u001b[0mmeshgrid\u001b[0m\u001b[0;34m(\u001b[0m\u001b[0mlon\u001b[0m\u001b[0;34m,\u001b[0m\u001b[0mlat\u001b[0m\u001b[0;34m,\u001b[0m\u001b[0malt\u001b[0m\u001b[0;34m)\u001b[0m\u001b[0;34m\u001b[0m\u001b[0;34m\u001b[0m\u001b[0m\n\u001b[0m",
      "\u001b[0;32m<__array_function__ internals>\u001b[0m in \u001b[0;36mmeshgrid\u001b[0;34m(*args, **kwargs)\u001b[0m\n",
      "\u001b[0;32m~/anaconda3/lib/python3.8/site-packages/numpy/lib/function_base.py\u001b[0m in \u001b[0;36mmeshgrid\u001b[0;34m(copy, sparse, indexing, *xi)\u001b[0m\n\u001b[1;32m   4225\u001b[0m \u001b[0;34m\u001b[0m\u001b[0m\n\u001b[1;32m   4226\u001b[0m     \u001b[0;32mif\u001b[0m \u001b[0mcopy\u001b[0m\u001b[0;34m:\u001b[0m\u001b[0;34m\u001b[0m\u001b[0;34m\u001b[0m\u001b[0m\n\u001b[0;32m-> 4227\u001b[0;31m         \u001b[0moutput\u001b[0m \u001b[0;34m=\u001b[0m \u001b[0;34m[\u001b[0m\u001b[0mx\u001b[0m\u001b[0;34m.\u001b[0m\u001b[0mcopy\u001b[0m\u001b[0;34m(\u001b[0m\u001b[0;34m)\u001b[0m \u001b[0;32mfor\u001b[0m \u001b[0mx\u001b[0m \u001b[0;32min\u001b[0m \u001b[0moutput\u001b[0m\u001b[0;34m]\u001b[0m\u001b[0;34m\u001b[0m\u001b[0;34m\u001b[0m\u001b[0m\n\u001b[0m\u001b[1;32m   4228\u001b[0m \u001b[0;34m\u001b[0m\u001b[0m\n\u001b[1;32m   4229\u001b[0m     \u001b[0;32mreturn\u001b[0m \u001b[0moutput\u001b[0m\u001b[0;34m\u001b[0m\u001b[0;34m\u001b[0m\u001b[0m\n",
      "\u001b[0;32m~/anaconda3/lib/python3.8/site-packages/numpy/lib/function_base.py\u001b[0m in \u001b[0;36m<listcomp>\u001b[0;34m(.0)\u001b[0m\n\u001b[1;32m   4225\u001b[0m \u001b[0;34m\u001b[0m\u001b[0m\n\u001b[1;32m   4226\u001b[0m     \u001b[0;32mif\u001b[0m \u001b[0mcopy\u001b[0m\u001b[0;34m:\u001b[0m\u001b[0;34m\u001b[0m\u001b[0;34m\u001b[0m\u001b[0m\n\u001b[0;32m-> 4227\u001b[0;31m         \u001b[0moutput\u001b[0m \u001b[0;34m=\u001b[0m \u001b[0;34m[\u001b[0m\u001b[0mx\u001b[0m\u001b[0;34m.\u001b[0m\u001b[0mcopy\u001b[0m\u001b[0;34m(\u001b[0m\u001b[0;34m)\u001b[0m \u001b[0;32mfor\u001b[0m \u001b[0mx\u001b[0m \u001b[0;32min\u001b[0m \u001b[0moutput\u001b[0m\u001b[0;34m]\u001b[0m\u001b[0;34m\u001b[0m\u001b[0;34m\u001b[0m\u001b[0m\n\u001b[0m\u001b[1;32m   4228\u001b[0m \u001b[0;34m\u001b[0m\u001b[0m\n\u001b[1;32m   4229\u001b[0m     \u001b[0;32mreturn\u001b[0m \u001b[0moutput\u001b[0m\u001b[0;34m\u001b[0m\u001b[0;34m\u001b[0m\u001b[0m\n",
      "\u001b[0;31mMemoryError\u001b[0m: Unable to allocate 2.12 TiB for an array with shape (10528, 10528, 10528) and data type float16"
     ]
    }
   ],
   "source": [
    "x,y,z = np.meshgrid(lon,lat,alt)"
   ]
  },
  {
   "cell_type": "code",
   "execution_count": 29,
   "metadata": {},
   "outputs": [
    {
     "data": {
      "text/plain": [
       "array([[[296., 294., 293., ..., 310., 311., 312.],\n",
       "        [296., 294., 293., ..., 310., 311., 312.],\n",
       "        [296., 294., 293., ..., 310., 311., 312.],\n",
       "        ...,\n",
       "        [296., 294., 293., ..., 310., 311., 312.],\n",
       "        [296., 294., 293., ..., 310., 311., 312.],\n",
       "        [296., 294., 293., ..., 310., 311., 312.]],\n",
       "\n",
       "       [[296., 294., 293., ..., 310., 311., 312.],\n",
       "        [296., 294., 293., ..., 310., 311., 312.],\n",
       "        [296., 294., 293., ..., 310., 311., 312.],\n",
       "        ...,\n",
       "        [296., 294., 293., ..., 310., 311., 312.],\n",
       "        [296., 294., 293., ..., 310., 311., 312.],\n",
       "        [296., 294., 293., ..., 310., 311., 312.]],\n",
       "\n",
       "       [[296., 294., 293., ..., 310., 311., 312.],\n",
       "        [296., 294., 293., ..., 310., 311., 312.],\n",
       "        [296., 294., 293., ..., 310., 311., 312.],\n",
       "        ...,\n",
       "        [296., 294., 293., ..., 310., 311., 312.],\n",
       "        [296., 294., 293., ..., 310., 311., 312.],\n",
       "        [296., 294., 293., ..., 310., 311., 312.]],\n",
       "\n",
       "       ...,\n",
       "\n",
       "       [[296., 294., 293., ..., 310., 311., 312.],\n",
       "        [296., 294., 293., ..., 310., 311., 312.],\n",
       "        [296., 294., 293., ..., 310., 311., 312.],\n",
       "        ...,\n",
       "        [296., 294., 293., ..., 310., 311., 312.],\n",
       "        [296., 294., 293., ..., 310., 311., 312.],\n",
       "        [296., 294., 293., ..., 310., 311., 312.]],\n",
       "\n",
       "       [[296., 294., 293., ..., 310., 311., 312.],\n",
       "        [296., 294., 293., ..., 310., 311., 312.],\n",
       "        [296., 294., 293., ..., 310., 311., 312.],\n",
       "        ...,\n",
       "        [296., 294., 293., ..., 310., 311., 312.],\n",
       "        [296., 294., 293., ..., 310., 311., 312.],\n",
       "        [296., 294., 293., ..., 310., 311., 312.]],\n",
       "\n",
       "       [[296., 294., 293., ..., 310., 311., 312.],\n",
       "        [296., 294., 293., ..., 310., 311., 312.],\n",
       "        [296., 294., 293., ..., 310., 311., 312.],\n",
       "        ...,\n",
       "        [296., 294., 293., ..., 310., 311., 312.],\n",
       "        [296., 294., 293., ..., 310., 311., 312.],\n",
       "        [296., 294., 293., ..., 310., 311., 312.]]])"
      ]
     },
     "execution_count": 29,
     "metadata": {},
     "output_type": "execute_result"
    }
   ],
   "source": [
    "z[:,:,:]"
   ]
  },
  {
   "cell_type": "code",
   "execution_count": 17,
   "metadata": {},
   "outputs": [
    {
     "data": {
      "image/png": "[encoded data removed]",
      "text/plain": [
       "<Figure size 1008x864 with 1 Axes>"
      ]
     },
     "metadata": {
      "needs_background": "light"
     },
     "output_type": "display_data"
    }
   ],
   "source": [
    "fig = plt.figure(1, figsize=(14, 12))\n",
    "ax = plt.subplot(111, projection=ccrs.PlateCarree())\n",
    "\n",
    "# Add geopolitical boundaries for map reference\n",
    "ax.add_feature(cf.COASTLINE.with_scale('50m'))\n",
    "ax.add_feature(cf.STATES.with_scale('50m'))\n",
    "\n",
    "# Plot 500-hPa Colorfill Wind Speeds in knots\n",
    "# clevs_ctt = np.arange(z[0,:,:].min(),\\\n",
    "#                            z[0,:,:].max())\n",
    "cfs = ax.contourf(x[0,:,:],y[0,:,:],z[0,:,:], cmap=get_cmap('jet'), \n",
    "                 transform=ccrs.PlateCarree())\n",
    "\n",
    "\n",
    "plt.title('Sea level pressure (hPa), Temperature at 2m,'\n",
    "          ' and Wind Barbs (kt)', loc='left')\n",
    "# plt.title('Valid Time: {}'.format(str(t.values)[:-7]), loc='right')\n",
    "\n",
    "# Adjust image and show\n",
    "# plt.subplots_adjust(bottom=0, top=1)\n",
    "\n",
    "gl = ax.gridlines(draw_labels=True, crs=ccrs.PlateCarree(),color='black')\n",
    "gl.xformatter = LONGITUDE_FORMATTER\n",
    "gl.yformatter = LATITUDE_FORMATTER\n",
    "gl.xlabels_top = False\n",
    "gl.ylabels_right = False\n",
    "plt.show()\n",
    "# plt.savefig('./slp_t2_dir.pdf')\n",
    "# plt.savefig('./slp_t2_dir.png')"
   ]
  },
  {
   "cell_type": "markdown",
   "metadata": {},
   "source": [
    "#### Upload ouput file wrf:"
   ]
  },
  {
   "cell_type": "code",
   "execution_count": null,
   "metadata": {},
   "outputs": [],
   "source": [
    "#files = glob.glob('/home/lucas/exp/exp_01/run/wrfout_d01*')\n",
    "#wrffiles = [Dataset(x) for x in files]\n",
    "wrffiles = Dataset('/media/lucasdmarten/HD/wrf/WRF/run/geo_em.d01.nc')"
   ]
  },
  {
   "cell_type": "markdown",
   "metadata": {},
   "source": [
    "#### Get geo wrf:"
   ]
  },
  {
   "cell_type": "code",
   "execution_count": null,
   "metadata": {},
   "outputs": [],
   "source": [
    "# latitude/longitude\n",
    "lat = getvar(wrffiles, 'lat')\n",
    "lon = getvar(wrffiles, 'lon')\n",
    "hgt = getvar(wrffiles, 'HGT_M')"
   ]
  },
  {
   "cell_type": "markdown",
   "metadata": {},
   "source": [
    "#### Get projection "
   ]
  },
  {
   "cell_type": "code",
   "execution_count": null,
   "metadata": {
    "scrolled": true
   },
   "outputs": [],
   "source": [
    "cart_proj=get_cartopy(slp)"
   ]
  },
  {
   "cell_type": "code",
   "execution_count": null,
   "metadata": {},
   "outputs": [],
   "source": [
    "# Set up the projection of the data; if lat/lon then PlateCarree is what you want\n",
    "datacrs = ccrs.PlateCarree()\n",
    "platecrs = ccrs.PlateCarree()\n",
    "\n",
    "# Start the figure and create plot axes with proper projection\n",
    "fig = plt.figure(1, figsize=(14, 12))\n",
    "ax = plt.subplot(111, projection=platecrs)\n",
    "\n",
    "# Add geopolitical boundaries for map reference\n",
    "ax.add_feature(cf.COASTLINE.with_scale('50m'))\n",
    "ax.add_feature(cf.STATES.with_scale('50m'))\n",
    "\n",
    "# Plot 500-hPa Colorfill Wind Speeds in knots\n",
    "clevs_ctt = np.arange(hgt.min().values,\\\n",
    "                           hgt.max().values, 200)\n",
    "cfs = ax.contourf(lon, lat, hgt, cmap=get_cmap('jet'), \n",
    "                 transform=datacrs)\n",
    "plt.colorbar(cfs, orientation='horizontal', pad=0, aspect=40)\n",
    "\n",
    "\n",
    "plt.title('Sea level pressure (hPa), Temperature at 2m,'\n",
    "          ' and Wind Barbs (kt)', loc='left')\n",
    "plt.title('Valid Time: {}'.format(str(t.values)[:-7]), loc='right')\n",
    "\n",
    "# Adjust image and show\n",
    "plt.subplots_adjust(bottom=0, top=1)\n",
    "\n",
    "gl = ax.gridlines(draw_labels=True, crs=ccrs.PlateCarree(),color='black')\n",
    "gl.xformatter = LONGITUDE_FORMATTER\n",
    "gl.yformatter = LATITUDE_FORMATTER\n",
    "gl.xlabels_top = False\n",
    "gl.ylabels_right = False\n",
    "plt.savefig('./slp_t2_dir.pdf')\n",
    "plt.savefig('./slp_t2_dir.png')"
   ]
  },
  {
   "cell_type": "markdown",
   "metadata": {},
   "source": [
    "# 500-hPa Geopotential Heights (m), Wind Speed (m/s), and Wind Barbs (kt) "
   ]
  },
  {
   "cell_type": "code",
   "execution_count": null,
   "metadata": {},
   "outputs": [],
   "source": [
    "# Set up the projection of the data; if lat/lon then PlateCarree is what you want\n",
    "datacrs = ccrs.PlateCarree()\n",
    "\n",
    "# Start the figure and create plot axes with proper projection\n",
    "fig = plt.figure(1, figsize=(14, 12))\n",
    "ax = plt.subplot(111, projection=cart_proj)\n",
    "\n",
    "# Add geopolitical boundaries for map reference\n",
    "ax.add_feature(cf.COASTLINE.with_scale('50m'))\n",
    "ax.add_feature(cf.STATES.with_scale('50m'))\n",
    "\n",
    "# Plot 500-hPa Colorfill Wind Speeds in knots\n",
    "clevs_500_sped = np.arange(wspd_500.min().values+5,\\\n",
    "                           wspd_500.max().values+5, 5)\n",
    "cfs = ax.contourf(lon, lat, wspd_500, clevs_500_sped, cmap=get_cmap('jet'),\n",
    "                 transform=datacrs)\n",
    "plt.colorbar(cfs, orientation='horizontal', pad=0, aspect=50)\n",
    "\n",
    "# Plot 500-hPa Geopotential Heights in meters\n",
    "clevs_500_hght = np.arange(h_500.min().values+1,\\\n",
    "                           h_500.max().values+1, 20)\n",
    "\n",
    "cs = ax.contour(lon, lat, h_500, clevs_500_hght, colors='black',\n",
    "                transform=datacrs)\n",
    "plt.clabel(cs, fmt='%d')\n",
    "\n",
    "# Plot 500-hPa wind barbs in knots, regrid to reduce number of barbs\n",
    "ax.barbs(lon.values, lat.values, u_500.values, v_500.values, pivot='middle',\n",
    "         color='black', regrid_shape=10, transform=datacrs)\n",
    "\n",
    "# Make some nice titles for the plot (one right, one left)\n",
    "plt.title('500-hPa Geopotential Heights (m), Wind Speed (m/s),'\n",
    "          ' and Wind Barbs (kt)', loc='left')\n",
    "plt.title('Valid Time: {}'.format(t), loc='right')\n",
    "\n",
    "# Adjust image and show\n",
    "plt.subplots_adjust(bottom=0, top=1)\n",
    "plt.savefig('./h_wspd_500.pdf')\n",
    "plt.savefig('./h_wspd_500.png')"
   ]
  },
  {
   "cell_type": "markdown",
   "metadata": {},
   "source": [
    "# Sea level pressure (hPa), Temperature at 2m, and Wind Barbs (kt)"
   ]
  },
  {
   "cell_type": "code",
   "execution_count": null,
   "metadata": {},
   "outputs": [],
   "source": [
    "# Set up the projection of the data; if lat/lon then PlateCarree is what you want\n",
    "datacrs = ccrs.PlateCarree()\n",
    "platecrs = ccrs.PlateCarree()\n",
    "\n",
    "# Start the figure and create plot axes with proper projection\n",
    "fig = plt.figure(1, figsize=(14, 12))\n",
    "ax = plt.subplot(111, projection=platecrs)\n",
    "\n",
    "# Add geopolitical boundaries for map reference\n",
    "ax.add_feature(cf.COASTLINE.with_scale('50m'))\n",
    "ax.add_feature(cf.STATES.with_scale('50m'))\n",
    "\n",
    "# Plot 500-hPa Colorfill Wind Speeds in knots\n",
    "clevs_t2m = np.arange(t2m.min().values-275.15,\\\n",
    "                           t2m.max().values-275.15, 1)\n",
    "cfs = ax.contourf(lon, lat, t2m-275.15, clevs_t2m, cmap=get_cmap('jet'),\n",
    "                 transform=datacrs)\n",
    "plt.colorbar(cfs, orientation='horizontal', pad=0, aspect=40)\n",
    "\n",
    "# Plot 500-hPa Geopotential Heights in meters\n",
    "clevs_slp = np.arange(slp.min().values,\\\n",
    "                           slp.max().values, 1)\n",
    "\n",
    "cs = ax.contour(lon, lat, slp, clevs_slp, colors='black',\n",
    "                transform=datacrs)\n",
    "plt.clabel(cs, fmt='%d')\n",
    "\n",
    "# Plot 500-hPa wind barbs in knots, regrid to reduce number of barbs\n",
    "ax.barbs(lon.values, lat.values, u_compont[0].values, v_compont[0].values, pivot='middle',\n",
    "         color='black', regrid_shape=15, transform=datacrs)\n",
    "\n",
    "# Make some nice titles for the plot (one right, one left)\n",
    "plt.title('Sea level pressure (hPa), Temperature at 2m,'\n",
    "          ' and Wind Barbs (kt)', loc='left')\n",
    "plt.title('Valid Time: {}'.format(str(t)[:19]), loc='right')\n",
    "\n",
    "# Adjust image and show\n",
    "plt.subplots_adjust(bottom=0, top=1)\n",
    "\n",
    "gl = ax.gridlines(draw_labels=True, crs=ccrs.PlateCarree(),color='black')\n",
    "gl.xformatter = LONGITUDE_FORMATTER\n",
    "gl.yformatter = LATITUDE_FORMATTER\n",
    "gl.xlabels_top = False\n",
    "gl.ylabels_right = False\n",
    "plt.savefig('./slp_t2m_dir2.pdf')\n",
    "plt.savefig('./slp_t2m_dir2.png')"
   ]
  },
  {
   "cell_type": "markdown",
   "metadata": {},
   "source": [
    "# Plotar temperatura de topo de nuvem e temperatura a 2m\n",
    "### obs: colorbar muito grande "
   ]
  },
  {
   "cell_type": "code",
   "execution_count": null,
   "metadata": {},
   "outputs": [],
   "source": [
    "fig = plt.figure(figsize=(17,8),dpi=100)\n",
    "gs = fig.add_gridspec(1, 2)\n",
    "\n",
    "# 1° axe\n",
    "ax1 = fig.add_subplot(gs[0, 0], projection=cart_proj)\n",
    "ax1.coastlines('50m', linewidth=0.8)\n",
    "ax1.contourf(to_np(lon), to_np(lat), to_np(t2m), 10, \n",
    "            transform=ccrs.PlateCarree(),cmap=get_cmap(\"jet\"))\n",
    "ax1.set_title('Cloud top temperature - °C')\n",
    "# Add geopolitical boundaries for map reference\n",
    "ax1.add_feature(cf.COASTLINE.with_scale('50m'))\n",
    "ax1.add_feature(cf.STATES.with_scale('50m'))\n",
    "\n",
    "# 2° axe\n",
    "ax2 = fig.add_subplot(gs[0, 1], projection=ccrs.Mercator())\n",
    "ax2.coastlines('50m', linewidth=0.8)\n",
    "ax2.contourf(to_np(lon), to_np(lat), to_np(t2m),\\\n",
    "            level=np.arange(0, 30,20),  cmap=get_cmap(\"jet\"),\n",
    "            transform=ccrs.PlateCarree())\n",
    "ax2.set_title('Temperature at 2 meters - °C')\n",
    "# Add geopolitical boundaries for map reference\n",
    "ax2.add_feature(cf.COASTLINE.with_scale('50m'))\n",
    "ax2.add_feature(cf.STATES.with_scale('50m'))\n",
    "# draw gridlines for ax2\n",
    "gl = ax2.gridlines(draw_labels=True, crs=ccrs.PlateCarree(),color='black')\n",
    "gl.xformatter = LONGITUDE_FORMATTER\n",
    "gl.yformatter = LATITUDE_FORMATTER\n",
    "gl.xlabels_top = False\n",
    "gl.ylabels_right = False\n",
    "\n",
    "\n",
    "# colorbar for ax2\n",
    "sm = plt.cm.ScalarMappable(cmap=get_cmap(\"jet\"))\n",
    "cb = plt.colorbar(sm)\n",
    "\n",
    "\n",
    "plt.ticklabel_format()"
   ]
  },
  {
   "cell_type": "code",
   "execution_count": null,
   "metadata": {},
   "outputs": [],
   "source": []
  }
 ],
 "metadata": {
  "kernelspec": {
   "display_name": "Python 3",
   "language": "python",
   "name": "python3"
  },
  "language_info": {
   "codemirror_mode": {
    "name": "ipython",
    "version": 3
   },
   "file_extension": ".py",
   "mimetype": "text/x-python",
   "name": "python",
   "nbconvert_exporter": "python",
   "pygments_lexer": "ipython3",
   "version": "3.8.5"
  }
 },
 "nbformat": 4,
 "nbformat_minor": 2
}
