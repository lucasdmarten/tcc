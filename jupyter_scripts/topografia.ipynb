{
 "cells": [
  {
   "cell_type": "code",
   "execution_count": 1,
   "metadata": {},
   "outputs": [],
   "source": [
    "import os\n",
    "import glob \n",
    "import numpy as np\n",
    "\n",
    "# Work on output of wrf\n",
    "from wrf import getvar, ALL_TIMES, interplevel, get_cartopy, to_np\n",
    "\n",
    "# Calculate fields\n",
    "import metpy.calc as mpcalc\n",
    "from metpy.units import units\n",
    "\n",
    "# Import file netCDF4\n",
    "from netCDF4 import Dataset\n",
    "\n",
    "# Make plots\n",
    "import matplotlib.pyplot as plt\n",
    "from matplotlib.cm import get_cmap\n",
    "from matplotlib import cm\n",
    "import pandas as pd\n",
    "# Work with projections\n",
    "from cartopy.mpl.gridliner import LONGITUDE_FORMATTER, LATITUDE_FORMATTER\n",
    "import cartopy.crs as ccrs\n",
    "from cartopy.feature import NaturalEarthFeature\n",
    "import cartopy.feature as cf"
   ]
  },
  {
   "cell_type": "code",
   "execution_count": null,
   "metadata": {},
   "outputs": [],
   "source": [
    "df = pd.read_csv('/media/lucasdmarten/HD/backup/projetos/tcc/tcc/data/altimetria/30_57_cor_rec.txt',\n",
    "                  names=['lon','lat','alt'], delimiter='\\s+').drop_duplicates()"
   ]
  },
  {
   "cell_type": "code",
   "execution_count": null,
   "metadata": {},
   "outputs": [],
   "source": [
    "coords = (-55.736647725973654, -55.68136510684949, -30.85747533191794, -30.790008823154768)\n",
    "coords[0]"
   ]
  },
  {
   "cell_type": "code",
   "execution_count": null,
   "metadata": {},
   "outputs": [],
   "source": [
    "df = df[ (df.lon>=coords[0]) & (df.lon<=coords[1]) & (df.lat>=coords[2]) & (df.lat<=coords[3]) ]"
   ]
  },
  {
   "cell_type": "code",
   "execution_count": null,
   "metadata": {},
   "outputs": [],
   "source": [
    "df = df[:700]"
   ]
  },
  {
   "cell_type": "code",
   "execution_count": null,
   "metadata": {},
   "outputs": [],
   "source": [
    "lon=df.lon\n",
    "lat=df.lat\n",
    "alt=df.alt\n",
    "lon.shape,lat.shape,alt.shape"
   ]
  },
  {
   "cell_type": "code",
   "execution_count": null,
   "metadata": {},
   "outputs": [],
   "source": [
    "x,y = np.meshgrid(lon,lat)"
   ]
  },
  {
   "cell_type": "code",
   "execution_count": null,
   "metadata": {},
   "outputs": [],
   "source": [
    "x,z = np.meshgrid(lon,alt)"
   ]
  },
  {
   "cell_type": "code",
   "execution_count": null,
   "metadata": {},
   "outputs": [],
   "source": [
    "fig = plt.figure(1, figsize=(14, 12))\n",
    "ax = plt.subplot(111, projection=ccrs.PlateCarree())\n",
    "\n",
    "# Add geopolitical boundaries for map reference\n",
    "ax.add_feature(cf.COASTLINE.with_scale('50m'))\n",
    "ax.add_feature(cf.STATES.with_scale('50m'))\n",
    "\n",
    "# Plot 500-hPa Colorfill Wind Speeds in knots\n",
    "clevs_ctt = np.arange(z.min(),\\\n",
    "                           z.max())\n",
    "cfs = ax.contourf(x,y,z, cmap=get_cmap('jet'), \n",
    "                 transform=ccrs.PlateCarree())\n",
    "plt.colorbar(cfs, orientation='horizontal', pad=0, aspect=40)\n",
    "\n",
    "\n",
    "plt.title('Sea level pressure (hPa), Temperature at 2m,'\n",
    "          ' and Wind Barbs (kt)', loc='left')\n",
    "# plt.title('Valid Time: {}'.format(str(t.values)[:-7]), loc='right')\n",
    "\n",
    "# Adjust image and show\n",
    "plt.subplots_adjust(bottom=0, top=1)\n",
    "\n",
    "gl = ax.gridlines(draw_labels=True, crs=ccrs.PlateCarree(),color='black')\n",
    "gl.xformatter = LONGITUDE_FORMATTER\n",
    "gl.yformatter = LATITUDE_FORMATTER\n",
    "gl.xlabels_top = False\n",
    "gl.ylabels_right = False\n",
    "plt.show()\n",
    "# plt.savefig('./slp_t2_dir.pdf')\n",
    "# plt.savefig('./slp_t2_dir.png')"
   ]
  },
  {
   "cell_type": "markdown",
   "metadata": {},
   "source": [
    "#### Upload ouput file wrf:"
   ]
  },
  {
   "cell_type": "code",
   "execution_count": null,
   "metadata": {},
   "outputs": [],
   "source": [
    "#files = glob.glob('/home/lucas/exp/exp_01/run/wrfout_d01*')\n",
    "#wrffiles = [Dataset(x) for x in files]\n",
    "wrffiles = Dataset('/media/lucasdmarten/HD/wrf/WRF/run/geo_em.d01.nc')"
   ]
  },
  {
   "cell_type": "markdown",
   "metadata": {},
   "source": [
    "#### Get geo wrf:"
   ]
  },
  {
   "cell_type": "code",
   "execution_count": null,
   "metadata": {},
   "outputs": [],
   "source": [
    "# latitude/longitude\n",
    "lat = getvar(wrffiles, 'lat')\n",
    "lon = getvar(wrffiles, 'lon')\n",
    "hgt = getvar(wrffiles, 'HGT_M')"
   ]
  },
  {
   "cell_type": "markdown",
   "metadata": {},
   "source": [
    "#### Get projection "
   ]
  },
  {
   "cell_type": "code",
   "execution_count": null,
   "metadata": {
    "scrolled": true
   },
   "outputs": [],
   "source": [
    "cart_proj=get_cartopy(slp)"
   ]
  },
  {
   "cell_type": "code",
   "execution_count": null,
   "metadata": {},
   "outputs": [],
   "source": [
    "# Set up the projection of the data; if lat/lon then PlateCarree is what you want\n",
    "datacrs = ccrs.PlateCarree()\n",
    "platecrs = ccrs.PlateCarree()\n",
    "\n",
    "# Start the figure and create plot axes with proper projection\n",
    "fig = plt.figure(1, figsize=(14, 12))\n",
    "ax = plt.subplot(111, projection=platecrs)\n",
    "\n",
    "# Add geopolitical boundaries for map reference\n",
    "ax.add_feature(cf.COASTLINE.with_scale('50m'))\n",
    "ax.add_feature(cf.STATES.with_scale('50m'))\n",
    "\n",
    "# Plot 500-hPa Colorfill Wind Speeds in knots\n",
    "clevs_ctt = np.arange(hgt.min().values,\\\n",
    "                           hgt.max().values, 200)\n",
    "cfs = ax.contourf(lon, lat, hgt, cmap=get_cmap('jet'), \n",
    "                 transform=datacrs)\n",
    "plt.colorbar(cfs, orientation='horizontal', pad=0, aspect=40)\n",
    "\n",
    "\n",
    "plt.title('Sea level pressure (hPa), Temperature at 2m,'\n",
    "          ' and Wind Barbs (kt)', loc='left')\n",
    "plt.title('Valid Time: {}'.format(str(t.values)[:-7]), loc='right')\n",
    "\n",
    "# Adjust image and show\n",
    "plt.subplots_adjust(bottom=0, top=1)\n",
    "\n",
    "gl = ax.gridlines(draw_labels=True, crs=ccrs.PlateCarree(),color='black')\n",
    "gl.xformatter = LONGITUDE_FORMATTER\n",
    "gl.yformatter = LATITUDE_FORMATTER\n",
    "gl.xlabels_top = False\n",
    "gl.ylabels_right = False\n",
    "plt.savefig('./slp_t2_dir.pdf')\n",
    "plt.savefig('./slp_t2_dir.png')"
   ]
  },
  {
   "cell_type": "markdown",
   "metadata": {},
   "source": [
    "# 500-hPa Geopotential Heights (m), Wind Speed (m/s), and Wind Barbs (kt) "
   ]
  },
  {
   "cell_type": "code",
   "execution_count": null,
   "metadata": {},
   "outputs": [],
   "source": [
    "# Set up the projection of the data; if lat/lon then PlateCarree is what you want\n",
    "datacrs = ccrs.PlateCarree()\n",
    "\n",
    "# Start the figure and create plot axes with proper projection\n",
    "fig = plt.figure(1, figsize=(14, 12))\n",
    "ax = plt.subplot(111, projection=cart_proj)\n",
    "\n",
    "# Add geopolitical boundaries for map reference\n",
    "ax.add_feature(cf.COASTLINE.with_scale('50m'))\n",
    "ax.add_feature(cf.STATES.with_scale('50m'))\n",
    "\n",
    "# Plot 500-hPa Colorfill Wind Speeds in knots\n",
    "clevs_500_sped = np.arange(wspd_500.min().values+5,\\\n",
    "                           wspd_500.max().values+5, 5)\n",
    "cfs = ax.contourf(lon, lat, wspd_500, clevs_500_sped, cmap=get_cmap('jet'),\n",
    "                 transform=datacrs)\n",
    "plt.colorbar(cfs, orientation='horizontal', pad=0, aspect=50)\n",
    "\n",
    "# Plot 500-hPa Geopotential Heights in meters\n",
    "clevs_500_hght = np.arange(h_500.min().values+1,\\\n",
    "                           h_500.max().values+1, 20)\n",
    "\n",
    "cs = ax.contour(lon, lat, h_500, clevs_500_hght, colors='black',\n",
    "                transform=datacrs)\n",
    "plt.clabel(cs, fmt='%d')\n",
    "\n",
    "# Plot 500-hPa wind barbs in knots, regrid to reduce number of barbs\n",
    "ax.barbs(lon.values, lat.values, u_500.values, v_500.values, pivot='middle',\n",
    "         color='black', regrid_shape=10, transform=datacrs)\n",
    "\n",
    "# Make some nice titles for the plot (one right, one left)\n",
    "plt.title('500-hPa Geopotential Heights (m), Wind Speed (m/s),'\n",
    "          ' and Wind Barbs (kt)', loc='left')\n",
    "plt.title('Valid Time: {}'.format(t), loc='right')\n",
    "\n",
    "# Adjust image and show\n",
    "plt.subplots_adjust(bottom=0, top=1)\n",
    "plt.savefig('./h_wspd_500.pdf')\n",
    "plt.savefig('./h_wspd_500.png')"
   ]
  },
  {
   "cell_type": "markdown",
   "metadata": {},
   "source": [
    "# Sea level pressure (hPa), Temperature at 2m, and Wind Barbs (kt)"
   ]
  },
  {
   "cell_type": "code",
   "execution_count": null,
   "metadata": {},
   "outputs": [],
   "source": [
    "# Set up the projection of the data; if lat/lon then PlateCarree is what you want\n",
    "datacrs = ccrs.PlateCarree()\n",
    "platecrs = ccrs.PlateCarree()\n",
    "\n",
    "# Start the figure and create plot axes with proper projection\n",
    "fig = plt.figure(1, figsize=(14, 12))\n",
    "ax = plt.subplot(111, projection=platecrs)\n",
    "\n",
    "# Add geopolitical boundaries for map reference\n",
    "ax.add_feature(cf.COASTLINE.with_scale('50m'))\n",
    "ax.add_feature(cf.STATES.with_scale('50m'))\n",
    "\n",
    "# Plot 500-hPa Colorfill Wind Speeds in knots\n",
    "clevs_t2m = np.arange(t2m.min().values-275.15,\\\n",
    "                           t2m.max().values-275.15, 1)\n",
    "cfs = ax.contourf(lon, lat, t2m-275.15, clevs_t2m, cmap=get_cmap('jet'),\n",
    "                 transform=datacrs)\n",
    "plt.colorbar(cfs, orientation='horizontal', pad=0, aspect=40)\n",
    "\n",
    "# Plot 500-hPa Geopotential Heights in meters\n",
    "clevs_slp = np.arange(slp.min().values,\\\n",
    "                           slp.max().values, 1)\n",
    "\n",
    "cs = ax.contour(lon, lat, slp, clevs_slp, colors='black',\n",
    "                transform=datacrs)\n",
    "plt.clabel(cs, fmt='%d')\n",
    "\n",
    "# Plot 500-hPa wind barbs in knots, regrid to reduce number of barbs\n",
    "ax.barbs(lon.values, lat.values, u_compont[0].values, v_compont[0].values, pivot='middle',\n",
    "         color='black', regrid_shape=15, transform=datacrs)\n",
    "\n",
    "# Make some nice titles for the plot (one right, one left)\n",
    "plt.title('Sea level pressure (hPa), Temperature at 2m,'\n",
    "          ' and Wind Barbs (kt)', loc='left')\n",
    "plt.title('Valid Time: {}'.format(str(t)[:19]), loc='right')\n",
    "\n",
    "# Adjust image and show\n",
    "plt.subplots_adjust(bottom=0, top=1)\n",
    "\n",
    "gl = ax.gridlines(draw_labels=True, crs=ccrs.PlateCarree(),color='black')\n",
    "gl.xformatter = LONGITUDE_FORMATTER\n",
    "gl.yformatter = LATITUDE_FORMATTER\n",
    "gl.xlabels_top = False\n",
    "gl.ylabels_right = False\n",
    "plt.savefig('./slp_t2m_dir2.pdf')\n",
    "plt.savefig('./slp_t2m_dir2.png')"
   ]
  },
  {
   "cell_type": "markdown",
   "metadata": {},
   "source": [
    "# Plotar temperatura de topo de nuvem e temperatura a 2m\n",
    "### obs: colorbar muito grande "
   ]
  },
  {
   "cell_type": "code",
   "execution_count": null,
   "metadata": {},
   "outputs": [],
   "source": [
    "fig = plt.figure(figsize=(17,8),dpi=100)\n",
    "gs = fig.add_gridspec(1, 2)\n",
    "\n",
    "# 1° axe\n",
    "ax1 = fig.add_subplot(gs[0, 0], projection=cart_proj)\n",
    "ax1.coastlines('50m', linewidth=0.8)\n",
    "ax1.contourf(to_np(lon), to_np(lat), to_np(t2m), 10, \n",
    "            transform=ccrs.PlateCarree(),cmap=get_cmap(\"jet\"))\n",
    "ax1.set_title('Cloud top temperature - °C')\n",
    "# Add geopolitical boundaries for map reference\n",
    "ax1.add_feature(cf.COASTLINE.with_scale('50m'))\n",
    "ax1.add_feature(cf.STATES.with_scale('50m'))\n",
    "\n",
    "# 2° axe\n",
    "ax2 = fig.add_subplot(gs[0, 1], projection=ccrs.Mercator())\n",
    "ax2.coastlines('50m', linewidth=0.8)\n",
    "ax2.contourf(to_np(lon), to_np(lat), to_np(t2m),\\\n",
    "            level=np.arange(0, 30,20),  cmap=get_cmap(\"jet\"),\n",
    "            transform=ccrs.PlateCarree())\n",
    "ax2.set_title('Temperature at 2 meters - °C')\n",
    "# Add geopolitical boundaries for map reference\n",
    "ax2.add_feature(cf.COASTLINE.with_scale('50m'))\n",
    "ax2.add_feature(cf.STATES.with_scale('50m'))\n",
    "# draw gridlines for ax2\n",
    "gl = ax2.gridlines(draw_labels=True, crs=ccrs.PlateCarree(),color='black')\n",
    "gl.xformatter = LONGITUDE_FORMATTER\n",
    "gl.yformatter = LATITUDE_FORMATTER\n",
    "gl.xlabels_top = False\n",
    "gl.ylabels_right = False\n",
    "\n",
    "\n",
    "# colorbar for ax2\n",
    "sm = plt.cm.ScalarMappable(cmap=get_cmap(\"jet\"))\n",
    "cb = plt.colorbar(sm)\n",
    "\n",
    "\n",
    "plt.ticklabel_format()"
   ]
  },
  {
   "cell_type": "code",
   "execution_count": null,
   "metadata": {},
   "outputs": [],
   "source": []
  }
 ],
 "metadata": {
  "kernelspec": {
   "display_name": "Python 3",
   "language": "python",
   "name": "python3"
  },
  "language_info": {
   "codemirror_mode": {
    "name": "ipython",
    "version": 3
   },
   "file_extension": ".py",
   "mimetype": "text/x-python",
   "name": "python",
   "nbconvert_exporter": "python",
   "pygments_lexer": "ipython3",
   "version": "3.8.5"
  }
 },
 "nbformat": 4,
 "nbformat_minor": 2
}
