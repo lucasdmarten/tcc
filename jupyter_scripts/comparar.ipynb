{
 "cells": [
  {
   "cell_type": "code",
   "execution_count": 136,
   "metadata": {},
   "outputs": [],
   "source": [
    "from netCDF4 import Dataset\n",
    "import numpy as np\n",
    "import glob\n",
    "import os\n",
    "import pandas as pd\n",
    "import wrf\n",
    "import datetime\n",
    "import cartopy.crs as ccrs\n",
    "from cartopy.io.shapereader import Reader\n",
    "import cartopy.feature as cfeature\n",
    "from cartopy import config\n",
    "from cartopy.mpl.gridliner import LONGITUDE_FORMATTER, LATITUDE_FORMATTER\n",
    "from cartopy.feature import ShapelyFeature\n",
    "from sklearn.metrics import mean_absolute_error,mean_squared_error\n",
    "from matplotlib.cm import get_cmap\n",
    "import matplotlib.pyplot as plt\n",
    "from matplotlib.image import imread"
   ]
  },
  {
   "cell_type": "code",
   "execution_count": 138,
   "metadata": {},
   "outputs": [],
   "source": [
    "wrfile = Dataset('/media/lucasdmarten/HD/DADOS_TCC/RESULTADOS/CASO2/MEMBRO1/wrfout_d01_2018-09-22_18:00:00')\n",
    "torres = pd.read_csv('/media/lucasdmarten/HD/backup/projetos/tcc/tcc/data/lat_lon_towers.txt', usecols=[1,2]).values\n",
    "geo = Dataset('/media/lucasdmarten/HD/wrf/domains/firstDomainPC/geo_em.d01.nc')"
   ]
  },
  {
   "cell_type": "code",
   "execution_count": 139,
   "metadata": {
    "collapsed": true
   },
   "outputs": [
    {
     "data": {
      "text/plain": [
       "<class 'netCDF4._netCDF4.Dataset'>\n",
       "root group (NETCDF4 data model, file format HDF5):\n",
       "    TITLE:  OUTPUT FROM WRF V4.2.2 MODEL\n",
       "    START_DATE: 2018-09-22_18:00:00\n",
       "    SIMULATION_START_DATE: 2018-09-22_18:00:00\n",
       "    WEST-EAST_GRID_DIMENSION: 100\n",
       "    SOUTH-NORTH_GRID_DIMENSION: 100\n",
       "    BOTTOM-TOP_GRID_DIMENSION: 40\n",
       "    DX: 15000.0\n",
       "    DY: 15000.0\n",
       "    AERCU_OPT: 0\n",
       "    AERCU_FCT: 1.0\n",
       "    IDEAL_CASE: 0\n",
       "    DIFF_6TH_SLOPEOPT: 0\n",
       "    AUTO_LEVELS_OPT: 2\n",
       "    DIFF_6TH_THRESH: 0.1\n",
       "    DZBOT: 50.0\n",
       "    DZSTRETCH_S: 1.3\n",
       "    DZSTRETCH_U: 1.1\n",
       "    SKEBS_ON: 0\n",
       "    SPEC_BDY_FINAL_MU: 1\n",
       "    USE_Q_DIABATIC: 0\n",
       "    GRIDTYPE: C\n",
       "    DIFF_OPT: 1\n",
       "    KM_OPT: 4\n",
       "    DAMP_OPT: 0\n",
       "    DAMPCOEF: 0.2\n",
       "    KHDIF: 0.0\n",
       "    KVDIF: 0.0\n",
       "    MP_PHYSICS: 8\n",
       "    RA_LW_PHYSICS: 4\n",
       "    RA_SW_PHYSICS: 4\n",
       "    SF_SFCLAY_PHYSICS: 1\n",
       "    SF_SURFACE_PHYSICS: 2\n",
       "    BL_PBL_PHYSICS: 1\n",
       "    CU_PHYSICS: 1\n",
       "    SF_LAKE_PHYSICS: 0\n",
       "    SURFACE_INPUT_SOURCE: 1\n",
       "    SST_UPDATE: 0\n",
       "    GRID_FDDA: 0\n",
       "    GFDDA_INTERVAL_M: 0\n",
       "    GFDDA_END_H: 0\n",
       "    GRID_SFDDA: 0\n",
       "    SGFDDA_INTERVAL_M: 0\n",
       "    SGFDDA_END_H: 0\n",
       "    HYPSOMETRIC_OPT: 2\n",
       "    USE_THETA_M: 1\n",
       "    GWD_OPT: 0\n",
       "    SF_URBAN_PHYSICS: 0\n",
       "    SF_SURFACE_MOSAIC: 0\n",
       "    SF_OCEAN_PHYSICS: 0\n",
       "    SHCU_PHYSICS: 0\n",
       "    MFSHCONV: 0\n",
       "    FEEDBACK: 1\n",
       "    SMOOTH_OPTION: 0\n",
       "    SWRAD_SCAT: 1.0\n",
       "    W_DAMPING: 0\n",
       "    DT: 90.0\n",
       "    RADT: 15.0\n",
       "    BLDT: 0.0\n",
       "    CUDT: 5.0\n",
       "    AER_OPT: 0\n",
       "    SWINT_OPT: 0\n",
       "    AER_TYPE: 1\n",
       "    AER_AOD550_OPT: 1\n",
       "    AER_ANGEXP_OPT: 1\n",
       "    AER_SSA_OPT: 1\n",
       "    AER_ASY_OPT: 1\n",
       "    AER_AOD550_VAL: 0.12\n",
       "    AER_ANGEXP_VAL: 1.3\n",
       "    AER_SSA_VAL: 0.85\n",
       "    AER_ASY_VAL: 0.9\n",
       "    MOIST_ADV_OPT: 1\n",
       "    SCALAR_ADV_OPT: 1\n",
       "    TKE_ADV_OPT: 1\n",
       "    DIFF_6TH_OPT: 0\n",
       "    DIFF_6TH_FACTOR: 0.12\n",
       "    OBS_NUDGE_OPT: 0\n",
       "    BUCKET_MM: -1.0\n",
       "    BUCKET_J: -1.0\n",
       "    PREC_ACC_DT: 0.0\n",
       "    ISFTCFLX: 0\n",
       "    ISHALLOW: 0\n",
       "    ISFFLX: 1\n",
       "    ICLOUD: 1\n",
       "    ICLOUD_CU: 0\n",
       "    TRACER_PBLMIX: 1\n",
       "    SCALAR_PBLMIX: 0\n",
       "    YSU_TOPDOWN_PBLMIX: 0\n",
       "    GRAV_SETTLING: 0\n",
       "    DFI_OPT: 0\n",
       "    NTASKS_X: 1\n",
       "    NTASKS_Y: 1\n",
       "    NTASKS_TOTAL: 1\n",
       "    SIMULATION_INITIALIZATION_TYPE: REAL-DATA CASE\n",
       "    WEST-EAST_PATCH_START_UNSTAG: 1\n",
       "    WEST-EAST_PATCH_END_UNSTAG: 99\n",
       "    WEST-EAST_PATCH_START_STAG: 1\n",
       "    WEST-EAST_PATCH_END_STAG: 100\n",
       "    SOUTH-NORTH_PATCH_START_UNSTAG: 1\n",
       "    SOUTH-NORTH_PATCH_END_UNSTAG: 99\n",
       "    SOUTH-NORTH_PATCH_START_STAG: 1\n",
       "    SOUTH-NORTH_PATCH_END_STAG: 100\n",
       "    BOTTOM-TOP_PATCH_START_UNSTAG: 1\n",
       "    BOTTOM-TOP_PATCH_END_UNSTAG: 39\n",
       "    BOTTOM-TOP_PATCH_START_STAG: 1\n",
       "    BOTTOM-TOP_PATCH_END_STAG: 40\n",
       "    GRID_ID: 1\n",
       "    PARENT_ID: 1\n",
       "    I_PARENT_START: 1\n",
       "    J_PARENT_START: 1\n",
       "    PARENT_GRID_RATIO: 1\n",
       "    CEN_LAT: -30.856998\n",
       "    CEN_LON: -55.681\n",
       "    TRUELAT1: -30.857\n",
       "    TRUELAT2: -30.857\n",
       "    MOAD_CEN_LAT: -30.856998\n",
       "    STAND_LON: -60.0\n",
       "    POLE_LAT: 90.0\n",
       "    POLE_LON: 0.0\n",
       "    GMT: 18.0\n",
       "    JULYR: 2018\n",
       "    JULDAY: 265\n",
       "    MAP_PROJ: 1\n",
       "    MAP_PROJ_CHAR: Lambert Conformal\n",
       "    MMINLU: MODIFIED_IGBP_MODIS_NOAH\n",
       "    NUM_LAND_CAT: 21\n",
       "    ISWATER: 17\n",
       "    ISLAKE: 21\n",
       "    ISICE: 15\n",
       "    ISURBAN: 13\n",
       "    ISOILWATER: 14\n",
       "    HYBRID_OPT: 2\n",
       "    ETAC: 0.2\n",
       "    dimensions(sizes): Time(325), DateStrLen(19), west_east(99), south_north(99), bottom_top(39), bottom_top_stag(40), soil_layers_stag(4), west_east_stag(100), south_north_stag(100), seed_dim_stag(33)\n",
       "    variables(dimensions): |S1 Times(Time,DateStrLen), float32 XLAT(Time,south_north,west_east), float32 XLONG(Time,south_north,west_east), float32 LU_INDEX(Time,south_north,west_east), float32 ZNU(Time,bottom_top), float32 ZNW(Time,bottom_top_stag), float32 ZS(Time,soil_layers_stag), float32 DZS(Time,soil_layers_stag), float32 VAR_SSO(Time,south_north,west_east), float32 U(Time,bottom_top,south_north,west_east_stag), float32 V(Time,bottom_top,south_north_stag,west_east), float32 W(Time,bottom_top_stag,south_north,west_east), float32 PH(Time,bottom_top_stag,south_north,west_east), float32 PHB(Time,bottom_top_stag,south_north,west_east), float32 T(Time,bottom_top,south_north,west_east), float32 THM(Time,bottom_top,south_north,west_east), float32 HFX_FORCE(Time), float32 LH_FORCE(Time), float32 TSK_FORCE(Time), float32 HFX_FORCE_TEND(Time), float32 LH_FORCE_TEND(Time), float32 TSK_FORCE_TEND(Time), float32 MU(Time,south_north,west_east), float32 MUB(Time,south_north,west_east), float32 NEST_POS(Time,south_north,west_east), float32 P(Time,bottom_top,south_north,west_east), float32 PB(Time,bottom_top,south_north,west_east), float32 FNM(Time,bottom_top), float32 FNP(Time,bottom_top), float32 RDNW(Time,bottom_top), float32 RDN(Time,bottom_top), float32 DNW(Time,bottom_top), float32 DN(Time,bottom_top), float32 CFN(Time), float32 CFN1(Time), int32 THIS_IS_AN_IDEAL_RUN(Time), float32 P_HYD(Time,bottom_top,south_north,west_east), float32 Q2(Time,south_north,west_east), float32 T2(Time,south_north,west_east), float32 TH2(Time,south_north,west_east), float32 PSFC(Time,south_north,west_east), float32 U10(Time,south_north,west_east), float32 V10(Time,south_north,west_east), float32 RDX(Time), float32 RDY(Time), float32 AREA2D(Time,south_north,west_east), float32 DX2D(Time,south_north,west_east), float32 RESM(Time), float32 ZETATOP(Time), float32 CF1(Time), float32 CF2(Time), float32 CF3(Time), int32 ITIMESTEP(Time), float32 XTIME(Time), float32 QVAPOR(Time,bottom_top,south_north,west_east), float32 QCLOUD(Time,bottom_top,south_north,west_east), float32 QRAIN(Time,bottom_top,south_north,west_east), float32 QICE(Time,bottom_top,south_north,west_east), float32 QSNOW(Time,bottom_top,south_north,west_east), float32 QGRAUP(Time,bottom_top,south_north,west_east), float32 QNICE(Time,bottom_top,south_north,west_east), float32 QNRAIN(Time,bottom_top,south_north,west_east), float32 SHDMAX(Time,south_north,west_east), float32 SHDMIN(Time,south_north,west_east), float32 SNOALB(Time,south_north,west_east), float32 TSLB(Time,soil_layers_stag,south_north,west_east), float32 SMOIS(Time,soil_layers_stag,south_north,west_east), float32 SH2O(Time,soil_layers_stag,south_north,west_east), float32 SMCREL(Time,soil_layers_stag,south_north,west_east), float32 SEAICE(Time,south_north,west_east), float32 XICEM(Time,south_north,west_east), float32 SFROFF(Time,south_north,west_east), float32 UDROFF(Time,south_north,west_east), int32 IVGTYP(Time,south_north,west_east), int32 ISLTYP(Time,south_north,west_east), float32 VEGFRA(Time,south_north,west_east), float32 GRDFLX(Time,south_north,west_east), float32 ACGRDFLX(Time,south_north,west_east), float32 ACSNOM(Time,south_north,west_east), float32 SNOW(Time,south_north,west_east), float32 SNOWH(Time,south_north,west_east), float32 CANWAT(Time,south_north,west_east), float32 SSTSK(Time,south_north,west_east), float32 COSZEN(Time,south_north,west_east), float32 LAI(Time,south_north,west_east), float32 VAR(Time,south_north,west_east), float32 MAPFAC_M(Time,south_north,west_east), float32 MAPFAC_U(Time,south_north,west_east_stag), float32 MAPFAC_V(Time,south_north_stag,west_east), float32 MAPFAC_MX(Time,south_north,west_east), float32 MAPFAC_MY(Time,south_north,west_east), float32 MAPFAC_UX(Time,south_north,west_east_stag), float32 MAPFAC_UY(Time,south_north,west_east_stag), float32 MAPFAC_VX(Time,south_north_stag,west_east), float32 MF_VX_INV(Time,south_north_stag,west_east), float32 MAPFAC_VY(Time,south_north_stag,west_east), float32 F(Time,south_north,west_east), float32 E(Time,south_north,west_east), float32 SINALPHA(Time,south_north,west_east), float32 COSALPHA(Time,south_north,west_east), float32 HGT(Time,south_north,west_east), float32 TSK(Time,south_north,west_east), float32 P_TOP(Time), float32 T00(Time), float32 P00(Time), float32 TLP(Time), float32 TISO(Time), float32 TLP_STRAT(Time), float32 P_STRAT(Time), float32 MAX_MSTFX(Time), float32 MAX_MSTFY(Time), float32 RAINC(Time,south_north,west_east), float32 RAINSH(Time,south_north,west_east), float32 RAINNC(Time,south_north,west_east), float32 SNOWNC(Time,south_north,west_east), float32 GRAUPELNC(Time,south_north,west_east), float32 HAILNC(Time,south_north,west_east), float32 CLDFRA(Time,bottom_top,south_north,west_east), float32 SWDOWN(Time,south_north,west_east), float32 GLW(Time,south_north,west_east), float32 SWNORM(Time,south_north,west_east), float32 ACSWUPT(Time,south_north,west_east), float32 ACSWUPTC(Time,south_north,west_east), float32 ACSWDNT(Time,south_north,west_east), float32 ACSWDNTC(Time,south_north,west_east), float32 ACSWUPB(Time,south_north,west_east), float32 ACSWUPBC(Time,south_north,west_east), float32 ACSWDNB(Time,south_north,west_east), float32 ACSWDNBC(Time,south_north,west_east), float32 ACLWUPT(Time,south_north,west_east), float32 ACLWUPTC(Time,south_north,west_east), float32 ACLWDNT(Time,south_north,west_east), float32 ACLWDNTC(Time,south_north,west_east), float32 ACLWUPB(Time,south_north,west_east), float32 ACLWUPBC(Time,south_north,west_east), float32 ACLWDNB(Time,south_north,west_east), float32 ACLWDNBC(Time,south_north,west_east), float32 SWUPT(Time,south_north,west_east), float32 SWUPTC(Time,south_north,west_east), float32 SWDNT(Time,south_north,west_east), float32 SWDNTC(Time,south_north,west_east), float32 SWUPB(Time,south_north,west_east), float32 SWUPBC(Time,south_north,west_east), float32 SWDNB(Time,south_north,west_east), float32 SWDNBC(Time,south_north,west_east), float32 LWUPT(Time,south_north,west_east), float32 LWUPTC(Time,south_north,west_east), float32 LWDNT(Time,south_north,west_east), float32 LWDNTC(Time,south_north,west_east), float32 LWUPB(Time,south_north,west_east), float32 LWUPBC(Time,south_north,west_east), float32 LWDNB(Time,south_north,west_east), float32 LWDNBC(Time,south_north,west_east), float32 OLR(Time,south_north,west_east), float32 XLAT_U(Time,south_north,west_east_stag), float32 XLONG_U(Time,south_north,west_east_stag), float32 XLAT_V(Time,south_north_stag,west_east), float32 XLONG_V(Time,south_north_stag,west_east), float32 ALBEDO(Time,south_north,west_east), float32 CLAT(Time,south_north,west_east), float32 ALBBCK(Time,south_north,west_east), float32 EMISS(Time,south_north,west_east), float32 NOAHRES(Time,south_north,west_east), float32 TMN(Time,south_north,west_east), float32 XLAND(Time,south_north,west_east), float32 UST(Time,south_north,west_east), float32 PBLH(Time,south_north,west_east), float32 HFX(Time,south_north,west_east), float32 QFX(Time,south_north,west_east), float32 LH(Time,south_north,west_east), float32 ACHFX(Time,south_north,west_east), float32 ACLHF(Time,south_north,west_east), float32 SNOWC(Time,south_north,west_east), float32 SR(Time,south_north,west_east), int32 SAVE_TOPO_FROM_REAL(Time), int32 ISEEDARR_SPPT(Time,seed_dim_stag), int32 ISEEDARR_SKEBS(Time,seed_dim_stag), int32 ISEEDARR_RAND_PERTURB(Time,seed_dim_stag), int32 ISEEDARRAY_SPP_CONV(Time,seed_dim_stag), int32 ISEEDARRAY_SPP_PBL(Time,seed_dim_stag), int32 ISEEDARRAY_SPP_LSM(Time,seed_dim_stag), float32 C1H(Time,bottom_top), float32 C2H(Time,bottom_top), float32 C1F(Time,bottom_top_stag), float32 C2F(Time,bottom_top_stag), float32 C3H(Time,bottom_top), float32 C4H(Time,bottom_top), float32 C3F(Time,bottom_top_stag), float32 C4F(Time,bottom_top_stag), float32 PCB(Time,south_north,west_east), float32 PC(Time,south_north,west_east), float32 LANDMASK(Time,south_north,west_east), float32 LAKEMASK(Time,south_north,west_east), float32 SST(Time,south_north,west_east), float32 SST_INPUT(Time,south_north,west_east)\n",
       "    groups: "
      ]
     },
     "execution_count": 139,
     "metadata": {},
     "output_type": "execute_result"
    }
   ],
   "source": [
    "wrfile"
   ]
  },
  {
   "cell_type": "code",
   "execution_count": 140,
   "metadata": {},
   "outputs": [],
   "source": [
    "speed = wrf.getvar(wrfile,'wspd_wdir', timeidx=wrf.ALL_TIMES)[0]\n",
    "z = wrf.getvar(wrfile, 'z', units='m')"
   ]
  },
  {
   "cell_type": "code",
   "execution_count": 141,
   "metadata": {},
   "outputs": [],
   "source": [
    "topo = wrf.getvar(geo,'HGT_M')\n",
    "topo = int(topo[49,49].values)"
   ]
  },
  {
   "cell_type": "code",
   "execution_count": 142,
   "metadata": {},
   "outputs": [],
   "source": [
    "speed_at100 = wrf.interplevel(speed, z, 108+topo)[:,49,49]"
   ]
  },
  {
   "cell_type": "code",
   "execution_count": 143,
   "metadata": {},
   "outputs": [],
   "source": [
    "t = wrf.getvar(wrfile, 'times', timeidx=wrf.ALL_TIMES)\n",
    "pred = speed_at100[36:-1]"
   ]
  },
  {
   "cell_type": "code",
   "execution_count": 147,
   "metadata": {},
   "outputs": [],
   "source": [
    "d = pd.read_csv('../tcc/data/ecc3_.csv')\n",
    "\n",
    "dCaso1 = d[(d.data>'2018-09-23') & (d.data<'2018-09-25')]\n",
    "di = datetime.datetime(2018,9,23,0)\n",
    "df = datetime.datetime(2018,9,25,0)\n",
    "dates = []\n",
    "while di < df:\n",
    "    dates.append(di)\n",
    "    di += datetime.timedelta(hours=1)"
   ]
  },
  {
   "cell_type": "code",
   "execution_count": 148,
   "metadata": {},
   "outputs": [
    {
     "data": {
      "text/plain": [
       "Index(['data', 'hora', 'erro', 'hPa', 'tp', 'ur', 'vs_med', 'vs_max', 'vs_min',\n",
       "       'vs_dev', 'ds_med', 'ds_dev', 'vi_med', 'vi_max', 'vi_min', 'vi_dev',\n",
       "       'di_med', 'di_dev', 'vm_med', 'vm_max', 'vm_min', 'vm_dev'],\n",
       "      dtype='object')"
      ]
     },
     "execution_count": 148,
     "metadata": {},
     "output_type": "execute_result"
    }
   ],
   "source": [
    "dCaso1.columns"
   ]
  },
  {
   "cell_type": "code",
   "execution_count": 149,
   "metadata": {},
   "outputs": [],
   "source": [
    "box=[]\n",
    "box_p=[]\n",
    "datas=[]\n",
    "i=0\n",
    "while i < 288:\n",
    "    box_p.append(list(pred[i:i+6].values))\n",
    "    box.append(list(map(float,dCaso1.iloc[i:i+6,6].to_list())))\n",
    "    datas.append(list(map(str,dCaso1.iloc[i:i+6,0].to_list()))[-1])\n",
    "    i+=6\n",
    "newdates=[]\n",
    "for i in range(len(datas)):\n",
    "    date_obj = datetime.datetime.strptime(datas[i], '%Y-%m-%d %H:%M:%S')\n",
    "    newdates.append('{:02d}/{:02d} - {:02d}hrs'.format(date_obj.day,date_obj.month,date_obj.hour))"
   ]
  },
  {
   "cell_type": "code",
   "execution_count": 156,
   "metadata": {},
   "outputs": [
    {
     "data": {
      "image/png": "[encoded data removed]",
      "text/plain": [
       "<Figure size 1008x504 with 1 Axes>"
      ]
     },
     "metadata": {
      "needs_background": "light"
     },
     "output_type": "display_data"
    }
   ],
   "source": [
    "fig = plt.figure(figsize =(14, 7))\n",
    "# Creating plot\n",
    "plt.boxplot(x=box_p, labels=newdates)\n",
    "degrees = 70\n",
    "plt.xticks(rotation=degrees)\n",
    "plt.ylabel(\"Velocidade (m/s)\", fontsize=25)\n",
    "plt.xlabel(\"Tempo\", fontsize=25)\n",
    "plt.yticks(fontsize=15)\n",
    "\n",
    "plt.xticks(fontsize=15)\n",
    "plt.ylim(0,25)\n",
    "plt.grid(True)\n",
    "plt.title(\"Velocidade média do vento prevista (caso 2 membro 1)\",  fontsize=25)\n",
    "# show plot\n",
    "#plt.savefig('pred_memb3.png',dpi=300)\n",
    "plt.show()"
   ]
  },
  {
   "cell_type": "code",
   "execution_count": 155,
   "metadata": {},
   "outputs": [
    {
     "data": {
      "image/png": "[encoded data removed]",
      "text/plain": [
       "<Figure size 1008x504 with 1 Axes>"
      ]
     },
     "metadata": {
      "needs_background": "light"
     },
     "output_type": "display_data"
    }
   ],
   "source": [
    "fig = plt.figure(figsize =(14, 7))\n",
    "# Creating plot\n",
    "plt.boxplot(x=box, labels=newdates)\n",
    "degrees = 70\n",
    "plt.xticks(rotation=degrees)\n",
    "plt.ylabel(\"Velocidade (m/s)\", fontsize=25)\n",
    "plt.xlabel(\"Tempo\", fontsize=25)\n",
    "plt.yticks(fontsize=15)\n",
    "plt.ylim(0,25)\n",
    "\n",
    "plt.xticks(fontsize=15)\n",
    "\n",
    "plt.grid(True)\n",
    "plt.title(\"Velocidade média do vento torre ECC3 caso2\",  fontsize=25)\n",
    "# show plot\n",
    "#plt.savefig('obs_ecc3.png',dpi=300)\n",
    "plt.show()"
   ]
  },
  {
   "cell_type": "code",
   "execution_count": 39,
   "metadata": {
    "collapsed": true
   },
   "outputs": [
    {
     "data": {
      "text/plain": [
       "Index(['data', 'hora', 'erro', 'hPa', 'tp', 'ur', 'vs_med', 'vs_max', 'vs_min',\n",
       "       'vs_dev', 'ds_med', 'ds_dev', 'vi_med', 'vi_max', 'vi_min', 'vi_dev',\n",
       "       'di_med', 'di_dev', 'vm_med', 'vm_max', 'vm_min', 'vm_dev'],\n",
       "      dtype='object')"
      ]
     },
     "execution_count": 39,
     "metadata": {},
     "output_type": "execute_result"
    }
   ],
   "source": [
    "dCaso1.columns"
   ]
  },
  {
   "cell_type": "code",
   "execution_count": 66,
   "metadata": {},
   "outputs": [],
   "source": [
    "path = '../jupyter_scripts/c1.m1.csv'\n",
    "wrfcsv = pd.read_csv(path, usecols=[0,1,2,4,7,8,9,10,11])#\n",
    "wrfcsv = wrfcsv[(wrfcsv.times>'2018-09-23') & (wrfcsv.times<'2018-05-25')]\n",
    "dfcompara = pd.read_csv('../tcc/data/ecc3_.csv', usecols=[0,3,4,5,6,10,12,16,18])\n",
    "dfcompara = dfcompara[(dfcompara.data>'2018-05-23') & (dfcompara.data<'2018-05-25')]"
   ]
  },
  {
   "cell_type": "code",
   "execution_count": 99,
   "metadata": {
    "collapsed": true
   },
   "outputs": [
    {
     "data": {
      "text/html": [
       "<div>\n",
       "<style scoped>\n",
       "    .dataframe tbody tr th:only-of-type {\n",
       "        vertical-align: middle;\n",
       "    }\n",
       "\n",
       "    .dataframe tbody tr th {\n",
       "        vertical-align: top;\n",
       "    }\n",
       "\n",
       "    .dataframe thead th {\n",
       "        text-align: right;\n",
       "    }\n",
       "</style>\n",
       "<table border=\"1\" class=\"dataframe\">\n",
       "  <thead>\n",
       "    <tr style=\"text-align: right;\">\n",
       "      <th></th>\n",
       "      <th>data</th>\n",
       "      <th>hPa</th>\n",
       "      <th>tp</th>\n",
       "      <th>ur</th>\n",
       "      <th>vs_med</th>\n",
       "      <th>ds_med</th>\n",
       "      <th>vi_med</th>\n",
       "      <th>di_med</th>\n",
       "      <th>vm_med</th>\n",
       "    </tr>\n",
       "  </thead>\n",
       "  <tbody>\n",
       "    <tr>\n",
       "      <th>0</th>\n",
       "      <td>2018-05-23 00:00:00</td>\n",
       "      <td>977</td>\n",
       "      <td>11.4</td>\n",
       "      <td>59.3</td>\n",
       "      <td>4.62</td>\n",
       "      <td>195</td>\n",
       "      <td>4.46</td>\n",
       "      <td>193</td>\n",
       "      <td>4.42</td>\n",
       "    </tr>\n",
       "    <tr>\n",
       "      <th>1</th>\n",
       "      <td>2018-05-23 00:10:00</td>\n",
       "      <td>977</td>\n",
       "      <td>11.3</td>\n",
       "      <td>59.5</td>\n",
       "      <td>4.32</td>\n",
       "      <td>189</td>\n",
       "      <td>4.57</td>\n",
       "      <td>190</td>\n",
       "      <td>4.26</td>\n",
       "    </tr>\n",
       "    <tr>\n",
       "      <th>2</th>\n",
       "      <td>2018-05-23 00:20:00</td>\n",
       "      <td>977</td>\n",
       "      <td>11.3</td>\n",
       "      <td>59.9</td>\n",
       "      <td>4.28</td>\n",
       "      <td>193</td>\n",
       "      <td>4.43</td>\n",
       "      <td>192</td>\n",
       "      <td>4.27</td>\n",
       "    </tr>\n",
       "    <tr>\n",
       "      <th>3</th>\n",
       "      <td>2018-05-23 00:30:00</td>\n",
       "      <td>977</td>\n",
       "      <td>11.2</td>\n",
       "      <td>60.2</td>\n",
       "      <td>4.14</td>\n",
       "      <td>192</td>\n",
       "      <td>4.09</td>\n",
       "      <td>192</td>\n",
       "      <td>4.02</td>\n",
       "    </tr>\n",
       "    <tr>\n",
       "      <th>4</th>\n",
       "      <td>2018-05-23 00:40:00</td>\n",
       "      <td>977</td>\n",
       "      <td>11.2</td>\n",
       "      <td>59.6</td>\n",
       "      <td>3.98</td>\n",
       "      <td>191</td>\n",
       "      <td>4.13</td>\n",
       "      <td>191</td>\n",
       "      <td>3.93</td>\n",
       "    </tr>\n",
       "    <tr>\n",
       "      <th>...</th>\n",
       "      <td>...</td>\n",
       "      <td>...</td>\n",
       "      <td>...</td>\n",
       "      <td>...</td>\n",
       "      <td>...</td>\n",
       "      <td>...</td>\n",
       "      <td>...</td>\n",
       "      <td>...</td>\n",
       "      <td>...</td>\n",
       "    </tr>\n",
       "    <tr>\n",
       "      <th>283</th>\n",
       "      <td>2018-05-24 23:10:00</td>\n",
       "      <td>979</td>\n",
       "      <td>13.1</td>\n",
       "      <td>62.1</td>\n",
       "      <td>7.03</td>\n",
       "      <td>88</td>\n",
       "      <td>6.07</td>\n",
       "      <td>90</td>\n",
       "      <td>6.32</td>\n",
       "    </tr>\n",
       "    <tr>\n",
       "      <th>284</th>\n",
       "      <td>2018-05-24 23:20:00</td>\n",
       "      <td>979</td>\n",
       "      <td>13</td>\n",
       "      <td>61.9</td>\n",
       "      <td>7.91</td>\n",
       "      <td>83</td>\n",
       "      <td>6.59</td>\n",
       "      <td>85</td>\n",
       "      <td>7.18</td>\n",
       "    </tr>\n",
       "    <tr>\n",
       "      <th>285</th>\n",
       "      <td>2018-05-24 23:30:00</td>\n",
       "      <td>979</td>\n",
       "      <td>12.7</td>\n",
       "      <td>64.4</td>\n",
       "      <td>8.17</td>\n",
       "      <td>82</td>\n",
       "      <td>6.85</td>\n",
       "      <td>84</td>\n",
       "      <td>7.55</td>\n",
       "    </tr>\n",
       "    <tr>\n",
       "      <th>286</th>\n",
       "      <td>2018-05-24 23:40:00</td>\n",
       "      <td>979</td>\n",
       "      <td>13.1</td>\n",
       "      <td>63.2</td>\n",
       "      <td>8.57</td>\n",
       "      <td>81</td>\n",
       "      <td>7.41</td>\n",
       "      <td>85</td>\n",
       "      <td>8</td>\n",
       "    </tr>\n",
       "    <tr>\n",
       "      <th>287</th>\n",
       "      <td>2018-05-24 23:50:00</td>\n",
       "      <td>979</td>\n",
       "      <td>13.2</td>\n",
       "      <td>61</td>\n",
       "      <td>8.2</td>\n",
       "      <td>83</td>\n",
       "      <td>7.38</td>\n",
       "      <td>85</td>\n",
       "      <td>7.83</td>\n",
       "    </tr>\n",
       "  </tbody>\n",
       "</table>\n",
       "<p>288 rows × 9 columns</p>\n",
       "</div>"
      ],
      "text/plain": [
       "                    data  hPa    tp    ur vs_med ds_med vi_med di_med vm_med\n",
       "0    2018-05-23 00:00:00  977  11.4  59.3   4.62    195   4.46    193   4.42\n",
       "1    2018-05-23 00:10:00  977  11.3  59.5   4.32    189   4.57    190   4.26\n",
       "2    2018-05-23 00:20:00  977  11.3  59.9   4.28    193   4.43    192   4.27\n",
       "3    2018-05-23 00:30:00  977  11.2  60.2   4.14    192   4.09    192   4.02\n",
       "4    2018-05-23 00:40:00  977  11.2  59.6   3.98    191   4.13    191   3.93\n",
       "..                   ...  ...   ...   ...    ...    ...    ...    ...    ...\n",
       "283  2018-05-24 23:10:00  979  13.1  62.1   7.03     88   6.07     90   6.32\n",
       "284  2018-05-24 23:20:00  979    13  61.9   7.91     83   6.59     85   7.18\n",
       "285  2018-05-24 23:30:00  979  12.7  64.4   8.17     82   6.85     84   7.55\n",
       "286  2018-05-24 23:40:00  979  13.1  63.2   8.57     81   7.41     85      8\n",
       "287  2018-05-24 23:50:00  979  13.2    61    8.2     83   7.38     85   7.83\n",
       "\n",
       "[288 rows x 9 columns]"
      ]
     },
     "execution_count": 99,
     "metadata": {},
     "output_type": "execute_result"
    }
   ],
   "source": [
    "dfcompara"
   ]
  },
  {
   "cell_type": "code",
   "execution_count": 68,
   "metadata": {
    "collapsed": true
   },
   "outputs": [
    {
     "data": {
      "text/html": [
       "<div>\n",
       "<style scoped>\n",
       "    .dataframe tbody tr th:only-of-type {\n",
       "        vertical-align: middle;\n",
       "    }\n",
       "\n",
       "    .dataframe tbody tr th {\n",
       "        vertical-align: top;\n",
       "    }\n",
       "\n",
       "    .dataframe thead th {\n",
       "        text-align: right;\n",
       "    }\n",
       "</style>\n",
       "<table border=\"1\" class=\"dataframe\">\n",
       "  <thead>\n",
       "    <tr style=\"text-align: right;\">\n",
       "      <th></th>\n",
       "      <th>times</th>\n",
       "      <th>T2</th>\n",
       "      <th>R2</th>\n",
       "      <th>PSFC</th>\n",
       "      <th>wspd67</th>\n",
       "      <th>wdir65</th>\n",
       "      <th>wspd88</th>\n",
       "      <th>wspd108</th>\n",
       "      <th>wdir106</th>\n",
       "    </tr>\n",
       "  </thead>\n",
       "  <tbody>\n",
       "    <tr>\n",
       "      <th>36</th>\n",
       "      <td>2018-05-23 00:00:00</td>\n",
       "      <td>279.62448</td>\n",
       "      <td>82.270240</td>\n",
       "      <td>988.83930</td>\n",
       "      <td>6.972328</td>\n",
       "      <td>224.564539</td>\n",
       "      <td>7.206808</td>\n",
       "      <td>7.345418</td>\n",
       "      <td>220.801363</td>\n",
       "    </tr>\n",
       "    <tr>\n",
       "      <th>37</th>\n",
       "      <td>2018-05-23 00:10:30</td>\n",
       "      <td>279.52588</td>\n",
       "      <td>82.450850</td>\n",
       "      <td>988.95710</td>\n",
       "      <td>6.924537</td>\n",
       "      <td>223.551012</td>\n",
       "      <td>7.150334</td>\n",
       "      <td>7.281176</td>\n",
       "      <td>219.681601</td>\n",
       "    </tr>\n",
       "    <tr>\n",
       "      <th>38</th>\n",
       "      <td>2018-05-23 00:21:00</td>\n",
       "      <td>279.43295</td>\n",
       "      <td>82.601295</td>\n",
       "      <td>989.11020</td>\n",
       "      <td>6.877312</td>\n",
       "      <td>222.424868</td>\n",
       "      <td>7.095578</td>\n",
       "      <td>7.219474</td>\n",
       "      <td>218.440860</td>\n",
       "    </tr>\n",
       "    <tr>\n",
       "      <th>39</th>\n",
       "      <td>2018-05-23 00:30:00</td>\n",
       "      <td>279.36176</td>\n",
       "      <td>82.737030</td>\n",
       "      <td>989.19250</td>\n",
       "      <td>6.833281</td>\n",
       "      <td>221.303609</td>\n",
       "      <td>7.045979</td>\n",
       "      <td>7.164559</td>\n",
       "      <td>217.238615</td>\n",
       "    </tr>\n",
       "    <tr>\n",
       "      <th>40</th>\n",
       "      <td>2018-05-23 00:40:30</td>\n",
       "      <td>279.26724</td>\n",
       "      <td>82.866790</td>\n",
       "      <td>989.24720</td>\n",
       "      <td>6.796067</td>\n",
       "      <td>219.862178</td>\n",
       "      <td>7.001347</td>\n",
       "      <td>7.112888</td>\n",
       "      <td>215.721205</td>\n",
       "    </tr>\n",
       "    <tr>\n",
       "      <th>...</th>\n",
       "      <td>...</td>\n",
       "      <td>...</td>\n",
       "      <td>...</td>\n",
       "      <td>...</td>\n",
       "      <td>...</td>\n",
       "      <td>...</td>\n",
       "      <td>...</td>\n",
       "      <td>...</td>\n",
       "      <td>...</td>\n",
       "    </tr>\n",
       "    <tr>\n",
       "      <th>319</th>\n",
       "      <td>2018-05-24 23:10:30</td>\n",
       "      <td>280.81190</td>\n",
       "      <td>64.748690</td>\n",
       "      <td>991.38617</td>\n",
       "      <td>4.071212</td>\n",
       "      <td>133.696291</td>\n",
       "      <td>4.069744</td>\n",
       "      <td>4.069484</td>\n",
       "      <td>131.541485</td>\n",
       "    </tr>\n",
       "    <tr>\n",
       "      <th>320</th>\n",
       "      <td>2018-05-24 23:21:00</td>\n",
       "      <td>280.74728</td>\n",
       "      <td>64.689064</td>\n",
       "      <td>991.38710</td>\n",
       "      <td>4.221583</td>\n",
       "      <td>132.322628</td>\n",
       "      <td>4.225480</td>\n",
       "      <td>4.235573</td>\n",
       "      <td>130.162228</td>\n",
       "    </tr>\n",
       "    <tr>\n",
       "      <th>321</th>\n",
       "      <td>2018-05-24 23:30:00</td>\n",
       "      <td>280.69177</td>\n",
       "      <td>64.730740</td>\n",
       "      <td>991.34040</td>\n",
       "      <td>4.369631</td>\n",
       "      <td>130.811066</td>\n",
       "      <td>4.380710</td>\n",
       "      <td>4.401316</td>\n",
       "      <td>128.667778</td>\n",
       "    </tr>\n",
       "    <tr>\n",
       "      <th>322</th>\n",
       "      <td>2018-05-24 23:40:30</td>\n",
       "      <td>280.62845</td>\n",
       "      <td>64.790306</td>\n",
       "      <td>991.40216</td>\n",
       "      <td>4.561074</td>\n",
       "      <td>129.003228</td>\n",
       "      <td>4.581061</td>\n",
       "      <td>4.614347</td>\n",
       "      <td>126.908465</td>\n",
       "    </tr>\n",
       "    <tr>\n",
       "      <th>323</th>\n",
       "      <td>2018-05-24 23:51:00</td>\n",
       "      <td>280.54996</td>\n",
       "      <td>65.025680</td>\n",
       "      <td>991.49786</td>\n",
       "      <td>4.773241</td>\n",
       "      <td>127.717838</td>\n",
       "      <td>4.815219</td>\n",
       "      <td>4.866346</td>\n",
       "      <td>124.821893</td>\n",
       "    </tr>\n",
       "  </tbody>\n",
       "</table>\n",
       "<p>288 rows × 9 columns</p>\n",
       "</div>"
      ],
      "text/plain": [
       "                   times         T2         R2       PSFC    wspd67  \\\n",
       "36   2018-05-23 00:00:00  279.62448  82.270240  988.83930  6.972328   \n",
       "37   2018-05-23 00:10:30  279.52588  82.450850  988.95710  6.924537   \n",
       "38   2018-05-23 00:21:00  279.43295  82.601295  989.11020  6.877312   \n",
       "39   2018-05-23 00:30:00  279.36176  82.737030  989.19250  6.833281   \n",
       "40   2018-05-23 00:40:30  279.26724  82.866790  989.24720  6.796067   \n",
       "..                   ...        ...        ...        ...       ...   \n",
       "319  2018-05-24 23:10:30  280.81190  64.748690  991.38617  4.071212   \n",
       "320  2018-05-24 23:21:00  280.74728  64.689064  991.38710  4.221583   \n",
       "321  2018-05-24 23:30:00  280.69177  64.730740  991.34040  4.369631   \n",
       "322  2018-05-24 23:40:30  280.62845  64.790306  991.40216  4.561074   \n",
       "323  2018-05-24 23:51:00  280.54996  65.025680  991.49786  4.773241   \n",
       "\n",
       "         wdir65    wspd88   wspd108     wdir106  \n",
       "36   224.564539  7.206808  7.345418  220.801363  \n",
       "37   223.551012  7.150334  7.281176  219.681601  \n",
       "38   222.424868  7.095578  7.219474  218.440860  \n",
       "39   221.303609  7.045979  7.164559  217.238615  \n",
       "40   219.862178  7.001347  7.112888  215.721205  \n",
       "..          ...       ...       ...         ...  \n",
       "319  133.696291  4.069744  4.069484  131.541485  \n",
       "320  132.322628  4.225480  4.235573  130.162228  \n",
       "321  130.811066  4.380710  4.401316  128.667778  \n",
       "322  129.003228  4.581061  4.614347  126.908465  \n",
       "323  127.717838  4.815219  4.866346  124.821893  \n",
       "\n",
       "[288 rows x 9 columns]"
      ]
     },
     "execution_count": 68,
     "metadata": {},
     "output_type": "execute_result"
    }
   ],
   "source": [
    "wrfcsv"
   ]
  },
  {
   "cell_type": "code",
   "execution_count": 108,
   "metadata": {},
   "outputs": [
    {
     "name": "stdout",
     "output_type": "stream",
     "text": [
      "EMA para vs_108\n",
      "1.9102036123082706\n",
      "\n",
      "\n",
      "\n",
      "EMA para ds_106\n",
      "54.76556505250627\n",
      "\n",
      "\n",
      "\n",
      "EMA para vi_67\n",
      "1.8324440837857112\n",
      "\n",
      "\n",
      "\n",
      "EMA para di_65\n",
      "61.19920488796457\n",
      "\n",
      "\n",
      "\n",
      "EMA para vm_88\n",
      "1.908888659343014\n"
     ]
    }
   ],
   "source": [
    "print(\"EMA para vs_108\")\n",
    "print(mean_absolute_error(list(wrfcsv.wspd108.values),dfcompara.vs_med.astype('float').to_list()))\n",
    "print('\\n'*2)\n",
    "print(\"EMA para ds_106\")\n",
    "print(mean_absolute_error(list(wrfcsv.wdir106.values),dfcompara.ds_med.astype('float').to_list()))\n",
    "print('\\n'*2)\n",
    "print(\"EMA para vi_67\")\n",
    "print(mean_absolute_error(list(wrfcsv.wspd67.values),dfcompara.vi_med.astype('float').to_list()))\n",
    "print('\\n'*2)\n",
    "print(\"EMA para di_65\")\n",
    "print(mean_absolute_error(list(wrfcsv.wdir65.values),dfcompara.di_med.astype('float').to_list()))\n",
    "print('\\n'*2)\n",
    "print(\"EMA para vm_88\")\n",
    "print(mean_absolute_error(list(wrfcsv.wspd88.values),dfcompara.vm_med.astype('float').to_list()))"
   ]
  },
  {
   "cell_type": "code",
   "execution_count": 127,
   "metadata": {},
   "outputs": [],
   "source": [
    "'''\n",
    "\n",
    "pega csv criado a partir dos dados do wrf e calcula o obs - prev\n",
    "\n",
    "'''\n",
    "\n",
    "tamanho=len(wrfcsv)\n",
    "ev_at108=[]\n",
    "ed_at106=[]\n",
    "ev_at88=[]\n",
    "ev_at67=[]\n",
    "ed_at65=[]\n",
    "for i in range(tamanho):\n",
    "#     p_psfc\n",
    "#     p_t2\n",
    "#     p_ur\n",
    "    p_vs_108 = wrfcsv.wspd108.values[i]\n",
    "    p_ds_106 = wrfcsv.wdir106.values[i]\n",
    "    p_vi_67 = wrfcsv.wspd67.values[i]\n",
    "    p_di_65 = wrfcsv.wdir65.values[i]\n",
    "    p_vm_88 = wrfcsv.wspd88.values[i]\n",
    "    \n",
    "    vs_108 = dfcompara.vs_med.astype('float').values[i]\n",
    "    ds_106 = dfcompara.ds_med.astype('float').values[i]\n",
    "    vi_67 = dfcompara.vi_med.astype('float').values[i]\n",
    "    di_65 = dfcompara.di_med.astype('float').values[i]\n",
    "    vm_88 = dfcompara.vm_med.astype('float').values[i]\n",
    "    \n",
    "    ev_at108.append(vs_108-p_vs_108)\n",
    "    ed_at106.append(ds_106-p_ds_106)\n",
    "    ev_at88.append(vm_88-p_vm_88)\n",
    "    ev_at67.append(vi_67-p_vi_67)\n",
    "    ed_at65.append(di_65-p_di_65)\n",
    "    \n",
    "  \n",
    "    "
   ]
  },
  {
   "cell_type": "code",
   "execution_count": 132,
   "metadata": {},
   "outputs": [
    {
     "data": {
      "text/plain": [
       "[<matplotlib.lines.Line2D at 0x7f6ecb3aa460>]"
      ]
     },
     "execution_count": 132,
     "metadata": {},
     "output_type": "execute_result"
    },
    {
     "data": {
      "image/png": "[encoded data removed]",
      "text/plain": [
       "<Figure size 432x288 with 1 Axes>"
      ]
     },
     "metadata": {
      "needs_background": "light"
     },
     "output_type": "display_data"
    }
   ],
   "source": [
    "plt.plot(ed_at65)"
   ]
  },
  {
   "cell_type": "code",
   "execution_count": 157,
   "metadata": {},
   "outputs": [
    {
     "data": {
      "text/plain": [
       "4.500397951842603"
      ]
     },
     "execution_count": 157,
     "metadata": {},
     "output_type": "execute_result"
    }
   ],
   "source": [
    "mean_absolute_error(box,box_p)"
   ]
  },
  {
   "cell_type": "code",
   "execution_count": 158,
   "metadata": {},
   "outputs": [
    {
     "data": {
      "text/plain": [
       "31.61849026311872"
      ]
     },
     "execution_count": 158,
     "metadata": {},
     "output_type": "execute_result"
    }
   ],
   "source": [
    "mean_squared_error(dCaso1.vs_med,pred)"
   ]
  },
  {
   "cell_type": "code",
   "execution_count": 22,
   "metadata": {},
   "outputs": [
    {
     "data": {
      "text/plain": [
       "[<matplotlib.lines.Line2D at 0x7f6ecb57b730>]"
      ]
     },
     "execution_count": 22,
     "metadata": {},
     "output_type": "execute_result"
    },
    {
     "data": {
      "image/png": "[encoded data removed]",
      "text/plain": [
       "<Figure size 432x288 with 1 Axes>"
      ]
     },
     "metadata": {
      "needs_background": "light"
     },
     "output_type": "display_data"
    }
   ],
   "source": [
    "x =  pred-dCaso1.vs_med.astype(float)\n",
    "plt.grid()\n",
    "x.plot()"
   ]
  },
  {
   "cell_type": "code",
   "execution_count": null,
   "metadata": {},
   "outputs": [],
   "source": []
  }
 ],
 "metadata": {
  "kernelspec": {
   "display_name": "Python 3",
   "language": "python",
   "name": "python3"
  },
  "language_info": {
   "codemirror_mode": {
    "name": "ipython",
    "version": 3
   },
   "file_extension": ".py",
   "mimetype": "text/x-python",
   "name": "python",
   "nbconvert_exporter": "python",
   "pygments_lexer": "ipython3",
   "version": "3.8.5"
  }
 },
 "nbformat": 4,
 "nbformat_minor": 4
}
