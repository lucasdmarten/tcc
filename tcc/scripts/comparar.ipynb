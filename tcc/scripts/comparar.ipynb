{
 "cells": [
  {
   "cell_type": "code",
   "execution_count": 1,
   "metadata": {},
   "outputs": [],
   "source": [
    "from netCDF4 import Dataset\n",
    "import numpy as np\n",
    "import glob\n",
    "import os\n",
    "import pandas as pd\n",
    "import wrf\n",
    "\n",
    "import cartopy.crs as ccrs\n",
    "from cartopy.io.shapereader import Reader\n",
    "import cartopy.feature as cfeature\n",
    "from cartopy import config\n",
    "from cartopy.mpl.gridliner import LONGITUDE_FORMATTER, LATITUDE_FORMATTER\n",
    "from cartopy.feature import ShapelyFeature\n",
    "\n",
    "from matplotlib.cm import get_cmap\n",
    "import matplotlib.pyplot as plt\n",
    "from matplotlib.image import imread"
   ]
  },
  {
   "cell_type": "code",
   "execution_count": 4,
   "metadata": {},
   "outputs": [],
   "source": [
    "wrfile_d02 = Dataset('/media/lucas/ce7c746b-5271-4ebe-a443-a00fe8fb43f4/wrf/WRF/run/wrfout_d02_2018-05-22_18:00:00')\n",
    "torres = pd.read_csv('/home/lucas/dados_vento/lat_lon_towers.txt', usecols=[1,2]).values\n",
    "topo = Dataset('/media/lucas/ce7c746b-5271-4ebe-a443-a00fe8fb43f4/wrf/WRF/run/geo_em.d02.nc')"
   ]
  },
  {
   "cell_type": "code",
   "execution_count": 5,
   "metadata": {},
   "outputs": [],
   "source": [
    "u10 = wrf.getvar(wrfile_d02, 'U10')\n",
    "v10 = wrf.getvar(wrfile_d02, 'V10')\n",
    "wind10 = np.sqrt(u10*u10+v10*v10)"
   ]
  },
  {
   "cell_type": "code",
   "execution_count": 6,
   "metadata": {},
   "outputs": [],
   "source": [
    "wspeed = wrf.getvar(wrfile_d02,'wspd_wdir')[0]\n",
    "wdir = wrf.getvar(wrfile_d02,'wspd_wdir')[1]\n",
    "z = wrf.getvar(wrfile_d02, 'z', units='m')\n",
    "slp = wrf.getvar(wrfile_d02,'slp')\n",
    "p = wrf.getvar(wrfile_d02,'pressure')\n",
    "lon = wrf.getvar(wrfile_d02,'lon')\n",
    "lat = wrf.getvar(wrfile_d02,'lat')\n",
    "t2 = wrf.getvar(wrfile_d02,'T2')\n",
    "geo = wrf.getvar(topo, 'HGT_M')"
   ]
  },
  {
   "cell_type": "code",
   "execution_count": 7,
   "metadata": {},
   "outputs": [],
   "source": [
    "a = wrf.interplevel(wspeed, z, [312.43304+108,336.6772+108,298.94324+108])"
   ]
  },
  {
   "cell_type": "code",
   "execution_count": 8,
   "metadata": {},
   "outputs": [],
   "source": [
    "a = wrf.interplevel(wspeed, z, [312.43304+108,336.6772+108,298.94324+108])\n",
    "n=1\n",
    "coordenada=[]\n",
    "wind=[]\n",
    "topografia=[]\n",
    "while n<4:\n",
    "    abslat = np.abs(lat-torres[n,0])\n",
    "    abslon = np.abs(lon-torres[n,1])\n",
    "    c = np.maximum(abslon,abslat)\n",
    "    x, y = np.where(c == np.min(c))\n",
    "    wind_ = a[1,x,y].values\n",
    "    topografia_ = geo[x,y]\n",
    "    wind.append(wind_)\n",
    "    topografia.append(topografia_)\n",
    "    n+=1"
   ]
  },
  {
   "cell_type": "code",
   "execution_count": 9,
   "metadata": {},
   "outputs": [
    {
     "data": {
      "text/plain": [
       "array([[4.5143714]], dtype=float32)"
      ]
     },
     "execution_count": 9,
     "metadata": {},
     "output_type": "execute_result"
    }
   ],
   "source": [
    "wind[0]"
   ]
  },
  {
   "cell_type": "code",
   "execution_count": 15,
   "metadata": {},
   "outputs": [
    {
     "data": {
      "text/plain": [
       "4.08"
      ]
     },
     "execution_count": 15,
     "metadata": {},
     "output_type": "execute_result"
    }
   ],
   "source": [
    "wind_obs"
   ]
  },
  {
   "cell_type": "code",
   "execution_count": 11,
   "metadata": {},
   "outputs": [],
   "source": [
    "indx = pd.to_datetime(pd.read_csv('ecc1_.csv').data.values)"
   ]
  },
  {
   "cell_type": "code",
   "execution_count": 12,
   "metadata": {},
   "outputs": [],
   "source": [
    "arquivo = pd.read_csv('ecc1_.csv')"
   ]
  },
  {
   "cell_type": "code",
   "execution_count": 13,
   "metadata": {},
   "outputs": [],
   "source": [
    "arquivo.index = indx"
   ]
  },
  {
   "cell_type": "code",
   "execution_count": 14,
   "metadata": {},
   "outputs": [],
   "source": [
    "wind_obs = float(arquivo.vs_med.loc['2018-05-23 06:00:00'])"
   ]
  },
  {
   "cell_type": "code",
   "execution_count": 16,
   "metadata": {},
   "outputs": [],
   "source": [
    "def f(x):\n",
    "    return float(x)"
   ]
  },
  {
   "cell_type": "code",
   "execution_count": 17,
   "metadata": {},
   "outputs": [],
   "source": [
    "f2 = np.vectorize(f)"
   ]
  },
  {
   "cell_type": "code",
   "execution_count": 18,
   "metadata": {},
   "outputs": [],
   "source": [
    "topografia = f2(topografia)"
   ]
  },
  {
   "cell_type": "code",
   "execution_count": 19,
   "metadata": {},
   "outputs": [
    {
     "data": {
      "text/plain": [
       "318.06292724609375"
      ]
     },
     "execution_count": 19,
     "metadata": {},
     "output_type": "execute_result"
    }
   ],
   "source": [
    "topografia.mean()"
   ]
  },
  {
   "cell_type": "code",
   "execution_count": 82,
   "metadata": {},
   "outputs": [],
   "source": [
    "del(torres['Unnamed: 0'])"
   ]
  },
  {
   "cell_type": "code",
   "execution_count": 23,
   "metadata": {},
   "outputs": [
    {
     "ename": "AttributeError",
     "evalue": "'numpy.ndarray' object has no attribute 'values'",
     "output_type": "error",
     "traceback": [
      "\u001b[0;31m---------------------------------------------------------------------------\u001b[0m",
      "\u001b[0;31mAttributeError\u001b[0m                            Traceback (most recent call last)",
      "\u001b[0;32m<ipython-input-23-24e9f9fad870>\u001b[0m in \u001b[0;36m<module>\u001b[0;34m\u001b[0m\n\u001b[0;32m----> 1\u001b[0;31m \u001b[0mround\u001b[0m\u001b[0;34m(\u001b[0m\u001b[0mfloat\u001b[0m\u001b[0;34m(\u001b[0m\u001b[0mwind\u001b[0m\u001b[0;34m[\u001b[0m\u001b[0;36m0\u001b[0m\u001b[0;34m]\u001b[0m\u001b[0;34m.\u001b[0m\u001b[0mvalues\u001b[0m\u001b[0;34m)\u001b[0m\u001b[0;34m,\u001b[0m\u001b[0;36m3\u001b[0m\u001b[0;34m)\u001b[0m\u001b[0;34m,\u001b[0m \u001b[0mround\u001b[0m\u001b[0;34m(\u001b[0m\u001b[0mfloat\u001b[0m\u001b[0;34m(\u001b[0m\u001b[0mwind\u001b[0m\u001b[0;34m[\u001b[0m\u001b[0;36m1\u001b[0m\u001b[0;34m]\u001b[0m\u001b[0;34m.\u001b[0m\u001b[0mvalues\u001b[0m\u001b[0;34m)\u001b[0m\u001b[0;34m,\u001b[0m\u001b[0;36m3\u001b[0m\u001b[0;34m)\u001b[0m\u001b[0;34m,\u001b[0m \u001b[0mround\u001b[0m\u001b[0;34m(\u001b[0m\u001b[0mfloat\u001b[0m\u001b[0;34m(\u001b[0m\u001b[0mwind\u001b[0m\u001b[0;34m[\u001b[0m\u001b[0;36m2\u001b[0m\u001b[0;34m]\u001b[0m\u001b[0;34m.\u001b[0m\u001b[0mvalues\u001b[0m\u001b[0;34m)\u001b[0m\u001b[0;34m,\u001b[0m\u001b[0;36m3\u001b[0m\u001b[0;34m)\u001b[0m\u001b[0;34m\u001b[0m\u001b[0;34m\u001b[0m\u001b[0m\n\u001b[0m",
      "\u001b[0;31mAttributeError\u001b[0m: 'numpy.ndarray' object has no attribute 'values'"
     ]
    }
   ],
   "source": [
    "round(float(wind[0].values),3), round(float(wind[1].values),3), round(float(wind[2].values),3)"
   ]
  },
  {
   "cell_type": "code",
   "execution_count": 21,
   "metadata": {},
   "outputs": [],
   "source": [
    "df = pd.read_csv('ecc1_.csv')\n",
    "df2 = pd.read_csv('ecc2_.csv')\n",
    "df3 = pd.read_csv('ecc3_.csv')"
   ]
  },
  {
   "cell_type": "code",
   "execution_count": 22,
   "metadata": {},
   "outputs": [
    {
     "data": {
      "text/plain": [
       "(5.17, 4.66, 4.94)"
      ]
     },
     "execution_count": 22,
     "metadata": {},
     "output_type": "execute_result"
    }
   ],
   "source": [
    "float(df[df.data=='2018-05-23 00:00:00']['vi_max']), \\\n",
    "float(df2[df2.data=='2018-05-23 00:00:00']['vi_max']), \\\n",
    "float(df3[df3.data=='2018-05-23 00:00:00']['vi_max'])"
   ]
  },
  {
   "cell_type": "code",
   "execution_count": 24,
   "metadata": {},
   "outputs": [
    {
     "data": {
      "text/html": [
       "<div>\n",
       "<style scoped>\n",
       "    .dataframe tbody tr th:only-of-type {\n",
       "        vertical-align: middle;\n",
       "    }\n",
       "\n",
       "    .dataframe tbody tr th {\n",
       "        vertical-align: top;\n",
       "    }\n",
       "\n",
       "    .dataframe thead th {\n",
       "        text-align: right;\n",
       "    }\n",
       "</style>\n",
       "<table border=\"1\" class=\"dataframe\">\n",
       "  <thead>\n",
       "    <tr style=\"text-align: right;\">\n",
       "      <th></th>\n",
       "      <th>data</th>\n",
       "      <th>hora</th>\n",
       "      <th>erro</th>\n",
       "      <th>hPa</th>\n",
       "      <th>tp</th>\n",
       "      <th>ur</th>\n",
       "      <th>vs_med</th>\n",
       "      <th>vs_max</th>\n",
       "      <th>vs_min</th>\n",
       "      <th>vs_dev</th>\n",
       "      <th>...</th>\n",
       "      <th>vi_med</th>\n",
       "      <th>vi_max</th>\n",
       "      <th>vi_min</th>\n",
       "      <th>vi_dev</th>\n",
       "      <th>di_med</th>\n",
       "      <th>di_dev</th>\n",
       "      <th>vm_med</th>\n",
       "      <th>vm_max</th>\n",
       "      <th>vm_min</th>\n",
       "      <th>vm_dev</th>\n",
       "    </tr>\n",
       "  </thead>\n",
       "  <tbody>\n",
       "    <tr>\n",
       "      <th>0</th>\n",
       "      <td>2018-05-23 00:00:00</td>\n",
       "      <td>0</td>\n",
       "      <td>0</td>\n",
       "      <td>980</td>\n",
       "      <td>11.6</td>\n",
       "      <td>61.5</td>\n",
       "      <td>4.5</td>\n",
       "      <td>4.89</td>\n",
       "      <td>4.24</td>\n",
       "      <td>0.17</td>\n",
       "      <td>...</td>\n",
       "      <td>4.86</td>\n",
       "      <td>5.17</td>\n",
       "      <td>4.57</td>\n",
       "      <td>0.14</td>\n",
       "      <td>187</td>\n",
       "      <td>1</td>\n",
       "      <td>4.53</td>\n",
       "      <td>4.95</td>\n",
       "      <td>4.21</td>\n",
       "      <td>0.17</td>\n",
       "    </tr>\n",
       "    <tr>\n",
       "      <th>1</th>\n",
       "      <td>2018-05-23 00:10:00</td>\n",
       "      <td>1000</td>\n",
       "      <td>0</td>\n",
       "      <td>980</td>\n",
       "      <td>11.6</td>\n",
       "      <td>61.5</td>\n",
       "      <td>5.12</td>\n",
       "      <td>5.39</td>\n",
       "      <td>4.75</td>\n",
       "      <td>0.12</td>\n",
       "      <td>...</td>\n",
       "      <td>5.17</td>\n",
       "      <td>5.49</td>\n",
       "      <td>4.94</td>\n",
       "      <td>0.09</td>\n",
       "      <td>182</td>\n",
       "      <td>1</td>\n",
       "      <td>4.46</td>\n",
       "      <td>4.99</td>\n",
       "      <td>4.12</td>\n",
       "      <td>0.22</td>\n",
       "    </tr>\n",
       "    <tr>\n",
       "      <th>2</th>\n",
       "      <td>2018-05-23 00:20:00</td>\n",
       "      <td>2000</td>\n",
       "      <td>0</td>\n",
       "      <td>980</td>\n",
       "      <td>11.6</td>\n",
       "      <td>60.8</td>\n",
       "      <td>5.2</td>\n",
       "      <td>5.44</td>\n",
       "      <td>5.03</td>\n",
       "      <td>0.06</td>\n",
       "      <td>...</td>\n",
       "      <td>5.28</td>\n",
       "      <td>5.44</td>\n",
       "      <td>5.03</td>\n",
       "      <td>0.08</td>\n",
       "      <td>182</td>\n",
       "      <td>0</td>\n",
       "      <td>4.4</td>\n",
       "      <td>4.86</td>\n",
       "      <td>4.21</td>\n",
       "      <td>0.1</td>\n",
       "    </tr>\n",
       "    <tr>\n",
       "      <th>3</th>\n",
       "      <td>2018-05-23 00:30:00</td>\n",
       "      <td>3000</td>\n",
       "      <td>0</td>\n",
       "      <td>980</td>\n",
       "      <td>11.6</td>\n",
       "      <td>60.8</td>\n",
       "      <td>5.04</td>\n",
       "      <td>5.21</td>\n",
       "      <td>4.84</td>\n",
       "      <td>0.06</td>\n",
       "      <td>...</td>\n",
       "      <td>4.93</td>\n",
       "      <td>5.26</td>\n",
       "      <td>4.71</td>\n",
       "      <td>0.14</td>\n",
       "      <td>183</td>\n",
       "      <td>0</td>\n",
       "      <td>4.79</td>\n",
       "      <td>5.13</td>\n",
       "      <td>4.44</td>\n",
       "      <td>0.16</td>\n",
       "    </tr>\n",
       "    <tr>\n",
       "      <th>4</th>\n",
       "      <td>2018-05-23 00:40:00</td>\n",
       "      <td>4000</td>\n",
       "      <td>0</td>\n",
       "      <td>980</td>\n",
       "      <td>11.6</td>\n",
       "      <td>59.2</td>\n",
       "      <td>4.92</td>\n",
       "      <td>5.12</td>\n",
       "      <td>4.75</td>\n",
       "      <td>0.06</td>\n",
       "      <td>...</td>\n",
       "      <td>4.78</td>\n",
       "      <td>4.94</td>\n",
       "      <td>4.62</td>\n",
       "      <td>0.06</td>\n",
       "      <td>184</td>\n",
       "      <td>1</td>\n",
       "      <td>4.96</td>\n",
       "      <td>5.13</td>\n",
       "      <td>4.81</td>\n",
       "      <td>0.05</td>\n",
       "    </tr>\n",
       "    <tr>\n",
       "      <th>...</th>\n",
       "      <td>...</td>\n",
       "      <td>...</td>\n",
       "      <td>...</td>\n",
       "      <td>...</td>\n",
       "      <td>...</td>\n",
       "      <td>...</td>\n",
       "      <td>...</td>\n",
       "      <td>...</td>\n",
       "      <td>...</td>\n",
       "      <td>...</td>\n",
       "      <td>...</td>\n",
       "      <td>...</td>\n",
       "      <td>...</td>\n",
       "      <td>...</td>\n",
       "      <td>...</td>\n",
       "      <td>...</td>\n",
       "      <td>...</td>\n",
       "      <td>...</td>\n",
       "      <td>...</td>\n",
       "      <td>...</td>\n",
       "      <td>...</td>\n",
       "    </tr>\n",
       "    <tr>\n",
       "      <th>1579</th>\n",
       "      <td>2018-12-24 23:10:00</td>\n",
       "      <td>231000</td>\n",
       "      <td>0</td>\n",
       "      <td>974</td>\n",
       "      <td>14.1</td>\n",
       "      <td>69.7</td>\n",
       "      <td>12.36</td>\n",
       "      <td>16.19</td>\n",
       "      <td>8.3</td>\n",
       "      <td>1.33</td>\n",
       "      <td>...</td>\n",
       "      <td>10.06</td>\n",
       "      <td>14.5</td>\n",
       "      <td>6.14</td>\n",
       "      <td>1.54</td>\n",
       "      <td>158</td>\n",
       "      <td>6</td>\n",
       "      <td>9.5</td>\n",
       "      <td>15.27</td>\n",
       "      <td>5.78</td>\n",
       "      <td>1.84</td>\n",
       "    </tr>\n",
       "    <tr>\n",
       "      <th>1580</th>\n",
       "      <td>2018-12-24 23:20:00</td>\n",
       "      <td>232000</td>\n",
       "      <td>0</td>\n",
       "      <td>974</td>\n",
       "      <td>14.1</td>\n",
       "      <td>64.7</td>\n",
       "      <td>16.57</td>\n",
       "      <td>20.21</td>\n",
       "      <td>10.05</td>\n",
       "      <td>1.68</td>\n",
       "      <td>...</td>\n",
       "      <td>13.1</td>\n",
       "      <td>18.18</td>\n",
       "      <td>6.96</td>\n",
       "      <td>1.82</td>\n",
       "      <td>158</td>\n",
       "      <td>5</td>\n",
       "      <td>12.04</td>\n",
       "      <td>16.98</td>\n",
       "      <td>7.85</td>\n",
       "      <td>1.72</td>\n",
       "    </tr>\n",
       "    <tr>\n",
       "      <th>1581</th>\n",
       "      <td>2018-12-24 23:30:00</td>\n",
       "      <td>233000</td>\n",
       "      <td>0</td>\n",
       "      <td>974</td>\n",
       "      <td>13.9</td>\n",
       "      <td>61.6</td>\n",
       "      <td>17.63</td>\n",
       "      <td>19.93</td>\n",
       "      <td>14.9</td>\n",
       "      <td>1.03</td>\n",
       "      <td>...</td>\n",
       "      <td>14.65</td>\n",
       "      <td>18.46</td>\n",
       "      <td>9.81</td>\n",
       "      <td>1.54</td>\n",
       "      <td>160</td>\n",
       "      <td>4</td>\n",
       "      <td>12.91</td>\n",
       "      <td>18.09</td>\n",
       "      <td>9.6</td>\n",
       "      <td>1.62</td>\n",
       "    </tr>\n",
       "    <tr>\n",
       "      <th>1582</th>\n",
       "      <td>2018-12-24 23:40:00</td>\n",
       "      <td>234000</td>\n",
       "      <td>0</td>\n",
       "      <td>975</td>\n",
       "      <td>13.6</td>\n",
       "      <td>61.3</td>\n",
       "      <td>14.49</td>\n",
       "      <td>18.41</td>\n",
       "      <td>11.12</td>\n",
       "      <td>1.55</td>\n",
       "      <td>...</td>\n",
       "      <td>11.77</td>\n",
       "      <td>16.11</td>\n",
       "      <td>8.02</td>\n",
       "      <td>1.67</td>\n",
       "      <td>157</td>\n",
       "      <td>4</td>\n",
       "      <td>10.82</td>\n",
       "      <td>17.39</td>\n",
       "      <td>7.25</td>\n",
       "      <td>2</td>\n",
       "    </tr>\n",
       "    <tr>\n",
       "      <th>1583</th>\n",
       "      <td>2018-12-24 23:50:00</td>\n",
       "      <td>235000</td>\n",
       "      <td>0</td>\n",
       "      <td>975</td>\n",
       "      <td>13.3</td>\n",
       "      <td>63.5</td>\n",
       "      <td>14.62</td>\n",
       "      <td>18.41</td>\n",
       "      <td>11.35</td>\n",
       "      <td>1.4</td>\n",
       "      <td>...</td>\n",
       "      <td>11.34</td>\n",
       "      <td>15.61</td>\n",
       "      <td>7.84</td>\n",
       "      <td>1.52</td>\n",
       "      <td>156</td>\n",
       "      <td>5</td>\n",
       "      <td>11.12</td>\n",
       "      <td>17.62</td>\n",
       "      <td>7.11</td>\n",
       "      <td>1.85</td>\n",
       "    </tr>\n",
       "  </tbody>\n",
       "</table>\n",
       "<p>1584 rows × 22 columns</p>\n",
       "</div>"
      ],
      "text/plain": [
       "                     data    hora  erro  hPa    tp    ur vs_med vs_max vs_min  \\\n",
       "0     2018-05-23 00:00:00       0     0  980  11.6  61.5    4.5   4.89   4.24   \n",
       "1     2018-05-23 00:10:00    1000     0  980  11.6  61.5   5.12   5.39   4.75   \n",
       "2     2018-05-23 00:20:00    2000     0  980  11.6  60.8    5.2   5.44   5.03   \n",
       "3     2018-05-23 00:30:00    3000     0  980  11.6  60.8   5.04   5.21   4.84   \n",
       "4     2018-05-23 00:40:00    4000     0  980  11.6  59.2   4.92   5.12   4.75   \n",
       "...                   ...     ...   ...  ...   ...   ...    ...    ...    ...   \n",
       "1579  2018-12-24 23:10:00  231000     0  974  14.1  69.7  12.36  16.19    8.3   \n",
       "1580  2018-12-24 23:20:00  232000     0  974  14.1  64.7  16.57  20.21  10.05   \n",
       "1581  2018-12-24 23:30:00  233000     0  974  13.9  61.6  17.63  19.93   14.9   \n",
       "1582  2018-12-24 23:40:00  234000     0  975  13.6  61.3  14.49  18.41  11.12   \n",
       "1583  2018-12-24 23:50:00  235000     0  975  13.3  63.5  14.62  18.41  11.35   \n",
       "\n",
       "     vs_dev  ... vi_med vi_max vi_min vi_dev di_med di_dev vm_med vm_max  \\\n",
       "0      0.17  ...   4.86   5.17   4.57   0.14    187      1   4.53   4.95   \n",
       "1      0.12  ...   5.17   5.49   4.94   0.09    182      1   4.46   4.99   \n",
       "2      0.06  ...   5.28   5.44   5.03   0.08    182      0    4.4   4.86   \n",
       "3      0.06  ...   4.93   5.26   4.71   0.14    183      0   4.79   5.13   \n",
       "4      0.06  ...   4.78   4.94   4.62   0.06    184      1   4.96   5.13   \n",
       "...     ...  ...    ...    ...    ...    ...    ...    ...    ...    ...   \n",
       "1579   1.33  ...  10.06   14.5   6.14   1.54    158      6    9.5  15.27   \n",
       "1580   1.68  ...   13.1  18.18   6.96   1.82    158      5  12.04  16.98   \n",
       "1581   1.03  ...  14.65  18.46   9.81   1.54    160      4  12.91  18.09   \n",
       "1582   1.55  ...  11.77  16.11   8.02   1.67    157      4  10.82  17.39   \n",
       "1583    1.4  ...  11.34  15.61   7.84   1.52    156      5  11.12  17.62   \n",
       "\n",
       "     vm_min vm_dev  \n",
       "0      4.21   0.17  \n",
       "1      4.12   0.22  \n",
       "2      4.21    0.1  \n",
       "3      4.44   0.16  \n",
       "4      4.81   0.05  \n",
       "...     ...    ...  \n",
       "1579   5.78   1.84  \n",
       "1580   7.85   1.72  \n",
       "1581    9.6   1.62  \n",
       "1582   7.25      2  \n",
       "1583   7.11   1.85  \n",
       "\n",
       "[1584 rows x 22 columns]"
      ]
     },
     "execution_count": 24,
     "metadata": {},
     "output_type": "execute_result"
    }
   ],
   "source": [
    "df"
   ]
  },
  {
   "cell_type": "code",
   "execution_count": null,
   "metadata": {},
   "outputs": [],
   "source": []
  }
 ],
 "metadata": {
  "kernelspec": {
   "display_name": "Python 3",
   "language": "python",
   "name": "python3"
  },
  "language_info": {
   "codemirror_mode": {
    "name": "ipython",
    "version": 3
   },
   "file_extension": ".py",
   "mimetype": "text/x-python",
   "name": "python",
   "nbconvert_exporter": "python",
   "pygments_lexer": "ipython3",
   "version": "3.7.6"
  }
 },
 "nbformat": 4,
 "nbformat_minor": 4
}
