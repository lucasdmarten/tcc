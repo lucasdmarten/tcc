{
 "cells": [
  {
   "cell_type": "code",
   "execution_count": 1,
   "metadata": {},
   "outputs": [],
   "source": [
    "from netCDF4 import Dataset\n",
    "import numpy as np\n",
    "from pandas import read_csv\n",
    "from wrf import getvar, interplevel, vinterp"
   ]
  },
  {
   "cell_type": "code",
   "execution_count": 1,
   "metadata": {},
   "outputs": [
    {
     "ename": "NameError",
     "evalue": "name 'Dataset' is not defined",
     "output_type": "error",
     "traceback": [
      "\u001b[0;31m---------------------------------------------------------------------------\u001b[0m",
      "\u001b[0;31mNameError\u001b[0m                                 Traceback (most recent call last)",
      "\u001b[0;32m<ipython-input-1-48f7af6b1a06>\u001b[0m in \u001b[0;36m<module>\u001b[0;34m\u001b[0m\n\u001b[0;32m----> 1\u001b[0;31m \u001b[0mwrfile\u001b[0m \u001b[0;34m=\u001b[0m \u001b[0mDataset\u001b[0m\u001b[0;34m(\u001b[0m\u001b[0;34m'/media/lucas/ce7c746b-5271-4ebe-a443-a00fe8fb43f4/wrf/WRF/run/wrfout_d02_2018-05-23_00:00:00'\u001b[0m\u001b[0;34m)\u001b[0m\u001b[0;34m\u001b[0m\u001b[0;34m\u001b[0m\u001b[0m\n\u001b[0m",
      "\u001b[0;31mNameError\u001b[0m: name 'Dataset' is not defined"
     ]
    }
   ],
   "source": [
    "wrfile = Dataset('/media/lucas/ce7c746b-5271-4ebe-a443-a00fe8fb43f4/wrf/WRF/run/wrfout_d02_2018-05-23_00:00:00')"
   ]
  },
  {
   "cell_type": "code",
   "execution_count": 3,
   "metadata": {},
   "outputs": [],
   "source": [
    "torres = read_csv('/home/lucas/dados_vento/lat_lon_towers.txt', usecols=[1,2]).values"
   ]
  },
  {
   "cell_type": "code",
   "execution_count": 111,
   "metadata": {},
   "outputs": [],
   "source": [
    "lat = getvar(wrfile, 'lat').values\n",
    "lon = getvar(wrfile, 'lon').values"
   ]
  },
  {
   "cell_type": "code",
   "execution_count": 348,
   "metadata": {},
   "outputs": [],
   "source": [
    "n=0\n",
    "coordenada = []\n",
    "while n<3:\n",
    "    abslat = np.abs(lat-torres[n,0])\n",
    "    abslon = np.abs(lon-torres[n,1])\n",
    "    c = np.maximum(abslon,abslat)\n",
    "    x, y = np.where(c == np.min(c))\n",
    "    indx = x , y\n",
    "    coordenada.append(indx)\n",
    "    n+=1"
   ]
  },
  {
   "cell_type": "code",
   "execution_count": 349,
   "metadata": {},
   "outputs": [
    {
     "name": "stdout",
     "output_type": "stream",
     "text": [
      "[-30.850094] [-55.749634]\n",
      "[-30.85049] [-55.6868]\n",
      "[-30.79634] [-55.717773]\n"
     ]
    }
   ],
   "source": [
    "for i in coordenada:\n",
    "    print( lat[i], lon[i] )"
   ]
  },
  {
   "cell_type": "code",
   "execution_count": 351,
   "metadata": {},
   "outputs": [],
   "source": [
    "latlon_idx = np.argmin(c)\n"
   ]
  },
  {
   "cell_type": "code",
   "execution_count": 447,
   "metadata": {},
   "outputs": [],
   "source": [
    "\n",
    "grid_temp = wspd.flat[latlon_idx]\n",
    "\n"
   ]
  },
  {
   "cell_type": "code",
   "execution_count": 422,
   "metadata": {},
   "outputs": [],
   "source": [
    "wspd =getvar(wrfile,'wspd_wdir')[0,:].values\n"
   ]
  },
  {
   "cell_type": "code",
   "execution_count": 425,
   "metadata": {},
   "outputs": [
    {
     "data": {
      "text/plain": [
       "array([[1.564675 , 1.5939692, 1.6259524, ..., 3.2970731, 3.261314 ,\n",
       "        3.196118 ],\n",
       "       [1.6132234, 1.6391529, 1.656141 , ..., 3.3260744, 3.3789837,\n",
       "        3.3853865],\n",
       "       [1.6046818, 1.625736 , 1.6359103, ..., 3.3174913, 3.3849351,\n",
       "        3.4353938],\n",
       "       ...,\n",
       "       [2.2967021, 2.2437549, 2.1827557, ..., 1.9619853, 1.8077128,\n",
       "        1.6562066],\n",
       "       [2.3505764, 2.3337858, 2.2952187, ..., 2.0186079, 1.9298395,\n",
       "        1.8070261],\n",
       "       [2.404892 , 2.4125009, 2.392706 , ..., 2.0741813, 2.0743902,\n",
       "        1.9544392]], dtype=float32)"
      ]
     },
     "execution_count": 425,
     "metadata": {},
     "output_type": "execute_result"
    }
   ],
   "source": [
    "wspd[0]"
   ]
  },
  {
   "cell_type": "code",
   "execution_count": 437,
   "metadata": {},
   "outputs": [],
   "source": [
    "z = getvar(wrfile, \"z\", units='km')\n",
    "#p = getvar(ncfile, \"pressure\")\n",
    "\n",
    "# Compute the 500 MB Geopotential Height\n",
    "ht_500mb = interplevel(wspd, z, [0,2,10,50])\n"
   ]
  },
  {
   "cell_type": "code",
   "execution_count": 448,
   "metadata": {},
   "outputs": [
    {
     "data": {
      "text/plain": [
       "2.4746146"
      ]
     },
     "execution_count": 448,
     "metadata": {},
     "output_type": "execute_result"
    }
   ],
   "source": [
    "grid_temp"
   ]
  },
  {
   "cell_type": "code",
   "execution_count": 456,
   "metadata": {},
   "outputs": [],
   "source": [
    "tkp_def = vinterp(wrfile, wspd, vert_coord=\"ght_msl\", interp_levels=[0.108]).values"
   ]
  },
  {
   "cell_type": "code",
   "execution_count": 457,
   "metadata": {},
   "outputs": [
    {
     "data": {
      "text/plain": [
       "nan"
      ]
     },
     "execution_count": 457,
     "metadata": {},
     "output_type": "execute_result"
    }
   ],
   "source": [
    "tkp_def.flat[latlon_idx]"
   ]
  },
  {
   "cell_type": "code",
   "execution_count": 471,
   "metadata": {},
   "outputs": [
    {
     "data": {
      "text/plain": [
       "array([[[3.0452857, 3.083855 , 2.9044425, 2.5723817, 2.2911313,\n",
       "         1.9432547, 1.6588234,       nan,       nan,       nan,\n",
       "               nan,       nan,       nan,       nan,       nan,\n",
       "               nan,       nan,       nan,       nan,       nan,\n",
       "               nan,       nan,       nan,       nan,       nan,\n",
       "               nan,       nan,       nan,       nan,       nan,\n",
       "               nan,       nan,       nan,       nan,       nan,\n",
       "               nan,       nan,       nan,       nan,       nan,\n",
       "               nan,       nan,       nan,       nan,       nan,\n",
       "               nan,       nan,       nan,       nan,       nan,\n",
       "               nan,       nan,       nan,       nan,       nan,\n",
       "               nan,       nan,       nan,       nan,       nan,\n",
       "               nan,       nan,       nan,       nan,       nan,\n",
       "               nan,       nan,       nan,       nan,       nan,\n",
       "               nan,       nan,       nan,       nan,       nan,\n",
       "               nan,       nan,       nan,       nan,       nan,\n",
       "               nan,       nan,       nan,       nan,       nan,\n",
       "               nan,       nan,       nan,       nan,       nan,\n",
       "               nan,       nan,       nan,       nan,       nan,\n",
       "               nan,       nan,       nan,       nan,       nan,\n",
       "               nan,       nan,       nan,       nan,       nan,\n",
       "               nan,       nan,       nan,       nan,       nan,\n",
       "               nan]],\n",
       "\n",
       "       [[1.9562895, 2.042488 , 2.017127 , 1.874668 , 1.6723824,\n",
       "               nan,       nan,       nan,       nan,       nan,\n",
       "               nan,       nan,       nan,       nan,       nan,\n",
       "               nan,       nan,       nan,       nan,       nan,\n",
       "               nan,       nan,       nan,       nan,       nan,\n",
       "               nan,       nan,       nan,       nan,       nan,\n",
       "               nan,       nan,       nan,       nan,       nan,\n",
       "               nan,       nan,       nan,       nan,       nan,\n",
       "               nan,       nan,       nan,       nan,       nan,\n",
       "               nan,       nan,       nan,       nan,       nan,\n",
       "               nan,       nan,       nan,       nan,       nan,\n",
       "               nan,       nan,       nan,       nan,       nan,\n",
       "               nan,       nan,       nan,       nan,       nan,\n",
       "               nan,       nan,       nan,       nan,       nan,\n",
       "               nan,       nan,       nan,       nan,       nan,\n",
       "               nan,       nan,       nan,       nan,       nan,\n",
       "               nan,       nan,       nan,       nan,       nan,\n",
       "               nan,       nan,       nan,       nan,       nan,\n",
       "               nan,       nan,       nan,       nan,       nan,\n",
       "               nan,       nan,       nan,       nan,       nan,\n",
       "               nan,       nan,       nan,       nan,       nan,\n",
       "               nan,       nan,       nan,       nan,       nan,\n",
       "               nan]]], dtype=float32)"
      ]
     },
     "execution_count": 471,
     "metadata": {},
     "output_type": "execute_result"
    }
   ],
   "source": [
    "tkp_def[0,coordenada][0]"
   ]
  },
  {
   "cell_type": "code",
   "execution_count": null,
   "metadata": {},
   "outputs": [],
   "source": []
  }
 ],
 "metadata": {
  "kernelspec": {
   "display_name": "Python 3",
   "language": "python",
   "name": "python3"
  },
  "language_info": {
   "codemirror_mode": {
    "name": "ipython",
    "version": 3
   },
   "file_extension": ".py",
   "mimetype": "text/x-python",
   "name": "python",
   "nbconvert_exporter": "python",
   "pygments_lexer": "ipython3",
   "version": "3.7.6"
  }
 },
 "nbformat": 4,
 "nbformat_minor": 4
}
