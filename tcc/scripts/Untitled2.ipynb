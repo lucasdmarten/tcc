{
 "cells": [
  {
   "cell_type": "code",
   "execution_count": 3,
   "metadata": {},
   "outputs": [],
   "source": [
    "import pandas as pd\n",
    "import seaborn as sns\n",
    "import matplotlib.pyplot as plt\n",
    "#from Github link \n",
    "url='https://raw.githubusercontent.com/granantuin/LEVX_class/master/maestro.csv'\n",
    "master=pd.read_csv(url,index_col='datetime',parse_dates=True)"
   ]
  },
  {
   "cell_type": "code",
   "execution_count": 6,
   "metadata": {},
   "outputs": [
    {
     "name": "stdout",
     "output_type": "stream",
     "text": [
      "<class 'pandas.core.frame.DataFrame'>\n",
      "DatetimeIndex: 61256 entries, 2011-08-22 20:00:00 to 2019-05-29 23:00:00\n",
      "Data columns (total 32 columns):\n",
      " #   Column        Non-Null Count  Dtype  \n",
      "---  ------        --------------  -----  \n",
      " 0   dir_o         61256 non-null  float64\n",
      " 1   wind_gust_o   61256 non-null  float64\n",
      " 2   skyc1_o       61256 non-null  object \n",
      " 3   skyc2_o       61256 non-null  object \n",
      " 4   skyc3_o       61256 non-null  object \n",
      " 5   skyc4_o       61256 non-null  object \n",
      " 6   wxcodes_o     61256 non-null  object \n",
      " 7   metar_o       61256 non-null  object \n",
      " 8   dir_p         61256 non-null  float64\n",
      " 9   lhflx_p       61256 non-null  float64\n",
      " 10  mod_p         61256 non-null  float64\n",
      " 11  prec_p        61256 non-null  float64\n",
      " 12  rh_p          61256 non-null  float64\n",
      " 13  visibility_p  61256 non-null  float64\n",
      " 14  wind_gust_p   61256 non-null  float64\n",
      " 15  mslp_p        61256 non-null  float64\n",
      " 16  temp_p        61256 non-null  float64\n",
      " 17  cape_p        61256 non-null  float64\n",
      " 18  cfl_p         61256 non-null  float64\n",
      " 19  cfm_p         61256 non-null  float64\n",
      " 20  cin_p         61256 non-null  float64\n",
      " 21  conv_prec_p   61256 non-null  float64\n",
      " 22  mslp_o        61256 non-null  float64\n",
      " 23  temp_o        61256 non-null  float64\n",
      " 24  dwp_o         61256 non-null  float64\n",
      " 25  rh_o          61256 non-null  float64\n",
      " 26  visibility_o  61256 non-null  float64\n",
      " 27  mod_o         61256 non-null  float64\n",
      " 28  skyl1_o       61256 non-null  int64  \n",
      " 29  skyl2_o       61256 non-null  int64  \n",
      " 30  skyl3_o       61256 non-null  int64  \n",
      " 31  skyl4_o       61256 non-null  int64  \n",
      "dtypes: float64(22), int64(4), object(6)\n",
      "memory usage: 15.4+ MB\n"
     ]
    }
   ],
   "source": [
    "master.info()"
   ]
  },
  {
   "cell_type": "code",
   "execution_count": null,
   "metadata": {},
   "outputs": [],
   "source": []
  }
 ],
 "metadata": {
  "kernelspec": {
   "display_name": "Python 3",
   "language": "python",
   "name": "python3"
  },
  "language_info": {
   "codemirror_mode": {
    "name": "ipython",
    "version": 3
   },
   "file_extension": ".py",
   "mimetype": "text/x-python",
   "name": "python",
   "nbconvert_exporter": "python",
   "pygments_lexer": "ipython3",
   "version": "3.7.6"
  }
 },
 "nbformat": 4,
 "nbformat_minor": 4
}
